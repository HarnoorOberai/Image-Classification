{
  "nbformat": 4,
  "nbformat_minor": 0,
  "metadata": {
    "colab": {
      "name": "HarnoorSinghOberai__190753898__GoogleNet(MNIST).ipynb",
      "provenance": [],
      "authorship_tag": "ABX9TyN1v7QPOWqoroUQo807F2Te",
      "include_colab_link": true
    },
    "kernelspec": {
      "name": "python3",
      "display_name": "Python 3"
    },
    "accelerator": "GPU"
  },
  "cells": [
    {
      "cell_type": "markdown",
      "metadata": {
        "id": "view-in-github",
        "colab_type": "text"
      },
      "source": [
        "<a href=\"https://colab.research.google.com/github/HarnoorOberai/Image-Classification/blob/master/HarnoorSinghOberai__190753898__GoogleNet(MNIST).ipynb\" target=\"_parent\"><img src=\"https://colab.research.google.com/assets/colab-badge.svg\" alt=\"Open In Colab\"/></a>"
      ]
    },
    {
      "cell_type": "code",
      "metadata": {
        "id": "LHrrzfC0rXX8",
        "colab_type": "code",
        "outputId": "78d26b3e-a76d-42c2-effd-1afb61538236",
        "colab": {
          "base_uri": "https://localhost:8080/",
          "height": 34
        }
      },
      "source": [
        "from __future__ import print_function\n",
        "import warnings\n",
        "warnings.filterwarnings('ignore')\n",
        "\n",
        "from keras.models import Model\n",
        "from keras.utils import plot_model\n",
        "from keras import regularizers\n",
        "from keras import backend as K\n",
        "from keras.layers import Input,Flatten, Dense,Dropout,BatchNormalization, concatenate\n",
        "from keras.layers.convolutional import Conv2D,MaxPooling2D,AveragePooling2D"
      ],
      "execution_count": 1,
      "outputs": [
        {
          "output_type": "stream",
          "text": [
            "Using TensorFlow backend.\n"
          ],
          "name": "stderr"
        }
      ]
    },
    {
      "cell_type": "code",
      "metadata": {
        "id": "RZqqfGL6tTf4",
        "colab_type": "code",
        "colab": {}
      },
      "source": [
        "NB_CLASS=10\n",
        "LEARNING_RATE=0.01\n",
        "MOMENTUM=0.9\n",
        "ALPHA=0.0001\n",
        "BETA=0.75\n",
        "GAMMA=0.1\n",
        "DROPOUT=0.4\n",
        "WEIGHT_DECAY=0.0005\n",
        "LRN2D_NORM=True\n",
        "DATA_FORMAT='channels_last' # Theano:'channels_first' Tensorflow:'channels_last'\n",
        "USE_BN=True\n",
        "IM_WIDTH=28\n",
        "IM_HEIGHT=28\n",
        "EPOCH=50"
      ],
      "execution_count": 0,
      "outputs": []
    },
    {
      "cell_type": "code",
      "metadata": {
        "id": "NZbK4Nutrdru",
        "colab_type": "code",
        "colab": {}
      },
      "source": [
        "def conv2D_lrn2d(x,filters,kernel_size,strides=(1,1),padding='same',dilation_rate=(1,1),activation='relu',\n",
        "                 use_bias=True,kernel_initializer='glorot_uniform',bias_initializer='zeros',\n",
        "                 kernel_regularizer=None,bias_regularizer=None,activity_regularizer=None,\n",
        "                 kernel_constraint=None,bias_constraint=None,lrn2d_norm=LRN2D_NORM,weight_decay=WEIGHT_DECAY):\n",
        "    #l2 normalization\n",
        "    if weight_decay:\n",
        "        kernel_regularizer=regularizers.l2(weight_decay)\n",
        "        bias_regularizer=regularizers.l2(weight_decay)\n",
        "    else:\n",
        "        kernel_regularizer=None\n",
        "        bias_regularizer=None\n",
        "    x=Conv2D(filters=filters,kernel_size=kernel_size,strides=strides,padding=padding,dilation_rate=dilation_rate,\n",
        "             activation=activation,use_bias=use_bias,kernel_initializer=kernel_initializer,\n",
        "             bias_initializer=bias_initializer,kernel_regularizer=kernel_regularizer,bias_regularizer=bias_regularizer,\n",
        "             activity_regularizer=activity_regularizer,kernel_constraint=kernel_constraint,bias_constraint=bias_constraint)(x)\n",
        "    if lrn2d_norm:\n",
        "        #batch normalization\n",
        "        x=BatchNormalization()(x)\n",
        "\n",
        "    return x"
      ],
      "execution_count": 0,
      "outputs": []
    },
    {
      "cell_type": "code",
      "metadata": {
        "id": "HiTLEknErduj",
        "colab_type": "code",
        "colab": {}
      },
      "source": [
        "def inception_module(x,params,concat_axis,padding='same',dilation_rate=(1,1),activation='relu',\n",
        "                     use_bias=True,kernel_initializer='glorot_uniform',bias_initializer='zeros',\n",
        "                     kernel_regularizer=None,bias_regularizer=None,activity_regularizer=None,kernel_constraint=None,\n",
        "                     bias_constraint=None,lrn2d_norm=LRN2D_NORM,weight_decay=None):\n",
        "    (branch1,branch2,branch3,branch4)=params\n",
        "    if weight_decay:\n",
        "        kernel_regularizer=regularizers.l2(weight_decay)\n",
        "        bias_regularizer=regularizers.l2(weight_decay)\n",
        "    else:\n",
        "        kernel_regularizer=None\n",
        "        bias_regularizer=None\n",
        "    #1x1\n",
        "    pathway1=Conv2D(filters=branch1[0],kernel_size=(1,1),strides=1,padding=padding,dilation_rate=dilation_rate,\n",
        "                    activation=activation,use_bias=use_bias,kernel_initializer=kernel_initializer,\n",
        "                    bias_initializer=bias_initializer,kernel_regularizer=kernel_regularizer,bias_regularizer=bias_regularizer,\n",
        "                    activity_regularizer=activity_regularizer,kernel_constraint=kernel_constraint,bias_constraint=bias_constraint)(x)\n",
        "    #1x1->3x3\n",
        "    pathway2=Conv2D(filters=branch2[0],kernel_size=(1,1),strides=1,padding=padding,dilation_rate=dilation_rate,\n",
        "                    activation=activation,use_bias=use_bias,kernel_initializer=kernel_initializer,\n",
        "                    bias_initializer=bias_initializer,kernel_regularizer=kernel_regularizer,bias_regularizer=bias_regularizer,\n",
        "                    activity_regularizer=activity_regularizer,kernel_constraint=kernel_constraint,bias_constraint=bias_constraint)(x)\n",
        "    pathway2=Conv2D(filters=branch2[1],kernel_size=(3,3),strides=1,padding=padding,dilation_rate=dilation_rate,\n",
        "                    activation=activation,use_bias=use_bias,kernel_initializer=kernel_initializer,\n",
        "                    bias_initializer=bias_initializer,kernel_regularizer=kernel_regularizer,bias_regularizer=bias_regularizer,\n",
        "                    activity_regularizer=activity_regularizer,kernel_constraint=kernel_constraint,bias_constraint=bias_constraint)(pathway2)\n",
        "    #1x1->5x5\n",
        "    pathway3=Conv2D(filters=branch3[0],kernel_size=(1,1),strides=1,padding=padding,dilation_rate=dilation_rate,\n",
        "                    activation=activation,use_bias=use_bias,kernel_initializer=kernel_initializer,\n",
        "                    bias_initializer=bias_initializer,kernel_regularizer=kernel_regularizer,bias_regularizer=bias_regularizer,\n",
        "                    activity_regularizer=activity_regularizer,kernel_constraint=kernel_constraint,bias_constraint=bias_constraint)(x)\n",
        "    pathway3=Conv2D(filters=branch3[1],kernel_size=(5,5),strides=1,padding=padding,dilation_rate=dilation_rate,\n",
        "                    activation=activation,use_bias=use_bias,kernel_initializer=kernel_initializer,\n",
        "                    bias_initializer=bias_initializer,kernel_regularizer=kernel_regularizer,bias_regularizer=bias_regularizer,\n",
        "                    activity_regularizer=activity_regularizer,kernel_constraint=kernel_constraint,bias_constraint=bias_constraint)(pathway3)\n",
        "    #3x3->1x1\n",
        "    pathway4=MaxPooling2D(pool_size=(3,3),strides=1,padding=padding,data_format=DATA_FORMAT)(x)\n",
        "    pathway4=Conv2D(filters=branch4[0],kernel_size=(1,1),strides=1,padding=padding,dilation_rate=dilation_rate,\n",
        "                    activation=activation,use_bias=use_bias,kernel_initializer=kernel_initializer,\n",
        "                    bias_initializer=bias_initializer,kernel_regularizer=kernel_regularizer,bias_regularizer=bias_regularizer,\n",
        "                    activity_regularizer=activity_regularizer,kernel_constraint=kernel_constraint,bias_constraint=bias_constraint)(pathway4)\n",
        "\n",
        "    return concatenate([pathway1,pathway2,pathway3,pathway4],axis=concat_axis)"
      ],
      "execution_count": 0,
      "outputs": []
    },
    {
      "cell_type": "code",
      "metadata": {
        "id": "oJNOrb7srdxW",
        "colab_type": "code",
        "colab": {}
      },
      "source": [
        "class GoogleNet:\n",
        "    @staticmethod\n",
        "    def build(width, height, depth, NB_CLASS):\n",
        "        INP_SHAPE = (height, width, depth)\n",
        "        img_input = Input(shape=INP_SHAPE)\n",
        "        CONCAT_AXIS = 3\n",
        "        # Data format:tensorflow,channels_last;theano,channels_last\n",
        "        if K.image_data_format() == 'channels_first':\n",
        "            INP_SHAPE = (depth, height, width)\n",
        "            img_input = Input(shape=INP_SHAPE)\n",
        "            CONCAT_AXIS = 1\n",
        "        x = conv2D_lrn2d(img_input, 64, (7, 7), 2, padding='same', lrn2d_norm=False)\n",
        "        x = MaxPooling2D(pool_size=(2, 2), strides=2, padding='same')(x)\n",
        "        x = BatchNormalization()(x)\n",
        "\n",
        "        x = conv2D_lrn2d(x, 64, (1, 1), 1, padding='same', lrn2d_norm=False)\n",
        "\n",
        "        x = conv2D_lrn2d(x, 192, (3, 3), 1, padding='same', lrn2d_norm=True)\n",
        "        x = MaxPooling2D(pool_size=(2, 2), strides=2, padding='same')(x)\n",
        "\n",
        "        x = inception_module(x, params=[(64,), (96, 128), (16, 32), (32,)], concat_axis=CONCAT_AXIS)  # 3a\n",
        "        x = inception_module(x, params=[(128,), (128, 192), (32, 96), (64,)], concat_axis=CONCAT_AXIS)  # 3b\n",
        "        x = MaxPooling2D(pool_size=(2, 2), strides=2, padding='same')(x)\n",
        "\n",
        "        x = inception_module(x, params=[(192,), (96, 208), (16, 48), (64,)], concat_axis=CONCAT_AXIS)  # 4a\n",
        "        x = inception_module(x, params=[(160,), (112, 224), (24, 64), (64,)], concat_axis=CONCAT_AXIS)  # 4b\n",
        "        x = inception_module(x, params=[(128,), (128, 256), (24, 64), (64,)], concat_axis=CONCAT_AXIS)  # 4c\n",
        "        x = inception_module(x, params=[(112,), (144, 288), (32, 64), (64,)], concat_axis=CONCAT_AXIS)  # 4d\n",
        "        x = inception_module(x, params=[(256,), (160, 320), (32, 128), (128,)], concat_axis=CONCAT_AXIS)  # 4e\n",
        "        x = MaxPooling2D(pool_size=(2, 2), strides=2, padding='same')(x)\n",
        "\n",
        "        x = inception_module(x, params=[(256,), (160, 320), (32, 128), (128,)], concat_axis=CONCAT_AXIS)  # 5a\n",
        "        x = inception_module(x, params=[(384,), (192, 384), (48, 128), (128,)], concat_axis=CONCAT_AXIS)  # 5b\n",
        "        x = AveragePooling2D(pool_size=(1, 1), strides=1, padding='valid')(x)\n",
        "\n",
        "        x = Flatten()(x)\n",
        "        x = Dropout(DROPOUT)(x)\n",
        "        x = Dense(output_dim=NB_CLASS, activation='linear')(x)\n",
        "        x = Dense(output_dim=NB_CLASS, activation='softmax')(x)\n",
        "\n",
        "        # Create a Keras Model\n",
        "        model = Model(input=img_input, output=[x])\n",
        "        model.summary()\n",
        "        # Save a PNG of the Model Build\n",
        "        # plot_model(model, to_file='../imgs/GoogLeNet.png')\n",
        "        # return the constructed network architecture\n",
        "        return model"
      ],
      "execution_count": 0,
      "outputs": []
    },
    {
      "cell_type": "code",
      "metadata": {
        "id": "T2_VAmZysOst",
        "colab_type": "code",
        "colab": {}
      },
      "source": [
        "import numpy as np\n",
        "from keras.utils import np_utils\n",
        "from keras.optimizers import Adam\n",
        "from keras.preprocessing.image import ImageDataGenerator\n",
        "from keras.models import Sequential\n",
        "from keras.layers.convolutional import Conv2D\n",
        "from keras.layers.convolutional import MaxPooling2D\n",
        "from keras.layers.core import Activation\n",
        "from keras.layers.core import Flatten\n",
        "from keras.layers.core import Dense\n",
        "from keras import backend as K\n",
        "from keras.models import load_model"
      ],
      "execution_count": 0,
      "outputs": []
    },
    {
      "cell_type": "code",
      "metadata": {
        "id": "GAOSm8O2sOvX",
        "colab_type": "code",
        "colab": {
          "base_uri": "https://localhost:8080/",
          "height": 52
        },
        "outputId": "440ad08b-0a7d-4fff-aff7-9f29e85f047b"
      },
      "source": [
        "# load minit data\n",
        "from keras.datasets import mnist\n",
        "(x_train, y_train),(x_test, y_test) = mnist.load_data()\n"
      ],
      "execution_count": 7,
      "outputs": [
        {
          "output_type": "stream",
          "text": [
            "Downloading data from https://s3.amazonaws.com/img-datasets/mnist.npz\n",
            "11493376/11490434 [==============================] - 1s 0us/step\n"
          ],
          "name": "stdout"
        }
      ]
    },
    {
      "cell_type": "code",
      "metadata": {
        "id": "RTBtLOT4sOyn",
        "colab_type": "code",
        "outputId": "8f658d2e-6ab9-447c-e008-317afbed927d",
        "colab": {
          "base_uri": "https://localhost:8080/",
          "height": 268
        }
      },
      "source": [
        "# plot 6 images as gray scale\n",
        "import matplotlib.pyplot as plt\n",
        "\n",
        "plt.subplot(321)\n",
        "plt.imshow(x_train[0],cmap=plt.get_cmap('gray'))\n",
        "plt.subplot(322)\n",
        "plt.imshow(x_train[1],cmap=plt.get_cmap('gray'))\n",
        "plt.subplot(323)\n",
        "plt.imshow(x_train[2],cmap=plt.get_cmap('gray'))\n",
        "plt.subplot(324)\n",
        "plt.imshow(x_train[3],cmap=plt.get_cmap('gray'))\n",
        "plt.subplot(325)\n",
        "plt.imshow(x_train[4],cmap=plt.get_cmap('gray'))\n",
        "plt.subplot(326)\n",
        "plt.imshow(x_train[5],cmap=plt.get_cmap('gray'))\n",
        "# show\n",
        "plt.show()"
      ],
      "execution_count": 8,
      "outputs": [
        {
          "output_type": "display_data",
          "data": {
            "image/png": "[encoded data removed]",
            "text/plain": [
              "<Figure size 432x288 with 6 Axes>"
            ]
          },
          "metadata": {
            "tags": [],
            "needs_background": "light"
          }
        }
      ]
    },
    {
      "cell_type": "code",
      "metadata": {
        "id": "vthTQejqsWN0",
        "colab_type": "code",
        "outputId": "a7b21c12-cbdf-41c1-85de-682cfae90a5c",
        "colab": {
          "base_uri": "https://localhost:8080/",
          "height": 34
        }
      },
      "source": [
        "print(x_train.shape)\n",
        "x_train = x_train.reshape(x_train.shape[0], 28, 28, 1).astype('float32')\n",
        "x_test = x_test.reshape(x_test.shape[0], 28, 28, 1).astype('float32')\n",
        "\n",
        "# normalization\n",
        "x_train = x_train / 255.0\n",
        "x_test = x_test / 255.0\n",
        "\n",
        "# one-hot\n",
        "y_train = np_utils.to_categorical(y_train)\n",
        "y_test = np_utils.to_categorical(y_test)"
      ],
      "execution_count": 9,
      "outputs": [
        {
          "output_type": "stream",
          "text": [
            "(60000, 28, 28)\n"
          ],
          "name": "stdout"
        }
      ]
    },
    {
      "cell_type": "code",
      "metadata": {
        "id": "NNZwnversWQn",
        "colab_type": "code",
        "colab": {}
      },
      "source": [
        "# parameters\n",
        "EPOCHS = 50\n",
        "INIT_LR = 1e-3\n",
        "BS = 128\n",
        "CLASS_NUM = 10\n",
        "norm_size = 28\n"
      ],
      "execution_count": 0,
      "outputs": []
    },
    {
      "cell_type": "code",
      "metadata": {
        "id": "fzfqWAOWsWTc",
        "colab_type": "code",
        "outputId": "6c153720-1f24-4d80-cccf-b402410221fc",
        "colab": {
          "base_uri": "https://localhost:8080/",
          "height": 1000
        }
      },
      "source": [
        "# start to train model\n",
        "print('start to train model')\n",
        "\n",
        "model = GoogleNet.build(width=norm_size, height=norm_size, depth=1, NB_CLASS=CLASS_NUM)\n",
        "opt = Adam(lr=INIT_LR, decay=INIT_LR / EPOCHS)\n",
        "model.compile(loss=\"categorical_crossentropy\", optimizer=opt, metrics=[\"accuracy\"])\n",
        "\n",
        "\n",
        "# Use generators to save memory\n",
        "aug = ImageDataGenerator(rotation_range=30, width_shift_range=0.1,\n",
        "                             height_shift_range=0.1, shear_range=0.2, zoom_range=0.2,\n",
        "                             horizontal_flip=True, fill_mode=\"nearest\")\n",
        "\n",
        "H = model.fit_generator(aug.flow(x_train, y_train, batch_size=BS),\n",
        "                            steps_per_epoch=len(x_train) // BS, validation_data=aug.flow(x_test, y_test),\n",
        "                            epochs=EPOCHS, verbose=2, use_multiprocessing=False)\n"
      ],
      "execution_count": 11,
      "outputs": [
        {
          "output_type": "stream",
          "text": [
            "start to train model\n",
            "Model: \"model_1\"\n",
            "__________________________________________________________________________________________________\n",
            "Layer (type)                    Output Shape         Param #     Connected to                     \n",
            "==================================================================================================\n",
            "input_1 (InputLayer)            (None, 28, 28, 1)    0                                            \n",
            "__________________________________________________________________________________________________\n",
            "conv2d_1 (Conv2D)               (None, 14, 14, 64)   3200        input_1[0][0]                    \n",
            "__________________________________________________________________________________________________\n",
            "max_pooling2d_1 (MaxPooling2D)  (None, 7, 7, 64)     0           conv2d_1[0][0]                   \n",
            "__________________________________________________________________________________________________\n",
            "batch_normalization_1 (BatchNor (None, 7, 7, 64)     256         max_pooling2d_1[0][0]            \n",
            "__________________________________________________________________________________________________\n",
            "conv2d_2 (Conv2D)               (None, 7, 7, 64)     4160        batch_normalization_1[0][0]      \n",
            "__________________________________________________________________________________________________\n",
            "conv2d_3 (Conv2D)               (None, 7, 7, 192)    110784      conv2d_2[0][0]                   \n",
            "__________________________________________________________________________________________________\n",
            "batch_normalization_2 (BatchNor (None, 7, 7, 192)    768         conv2d_3[0][0]                   \n",
            "__________________________________________________________________________________________________\n",
            "max_pooling2d_2 (MaxPooling2D)  (None, 4, 4, 192)    0           batch_normalization_2[0][0]      \n",
            "__________________________________________________________________________________________________\n",
            "conv2d_5 (Conv2D)               (None, 4, 4, 96)     18528       max_pooling2d_2[0][0]            \n",
            "__________________________________________________________________________________________________\n",
            "conv2d_7 (Conv2D)               (None, 4, 4, 16)     3088        max_pooling2d_2[0][0]            \n",
            "__________________________________________________________________________________________________\n",
            "max_pooling2d_3 (MaxPooling2D)  (None, 4, 4, 192)    0           max_pooling2d_2[0][0]            \n",
            "__________________________________________________________________________________________________\n",
            "conv2d_4 (Conv2D)               (None, 4, 4, 64)     12352       max_pooling2d_2[0][0]            \n",
            "__________________________________________________________________________________________________\n",
            "conv2d_6 (Conv2D)               (None, 4, 4, 128)    110720      conv2d_5[0][0]                   \n",
            "__________________________________________________________________________________________________\n",
            "conv2d_8 (Conv2D)               (None, 4, 4, 32)     12832       conv2d_7[0][0]                   \n",
            "__________________________________________________________________________________________________\n",
            "conv2d_9 (Conv2D)               (None, 4, 4, 32)     6176        max_pooling2d_3[0][0]            \n",
            "__________________________________________________________________________________________________\n",
            "concatenate_1 (Concatenate)     (None, 4, 4, 256)    0           conv2d_4[0][0]                   \n",
            "                                                                 conv2d_6[0][0]                   \n",
            "                                                                 conv2d_8[0][0]                   \n",
            "                                                                 conv2d_9[0][0]                   \n",
            "__________________________________________________________________________________________________\n",
            "conv2d_11 (Conv2D)              (None, 4, 4, 128)    32896       concatenate_1[0][0]              \n",
            "__________________________________________________________________________________________________\n",
            "conv2d_13 (Conv2D)              (None, 4, 4, 32)     8224        concatenate_1[0][0]              \n",
            "__________________________________________________________________________________________________\n",
            "max_pooling2d_4 (MaxPooling2D)  (None, 4, 4, 256)    0           concatenate_1[0][0]              \n",
            "__________________________________________________________________________________________________\n",
            "conv2d_10 (Conv2D)              (None, 4, 4, 128)    32896       concatenate_1[0][0]              \n",
            "__________________________________________________________________________________________________\n",
            "conv2d_12 (Conv2D)              (None, 4, 4, 192)    221376      conv2d_11[0][0]                  \n",
            "__________________________________________________________________________________________________\n",
            "conv2d_14 (Conv2D)              (None, 4, 4, 96)     76896       conv2d_13[0][0]                  \n",
            "__________________________________________________________________________________________________\n",
            "conv2d_15 (Conv2D)              (None, 4, 4, 64)     16448       max_pooling2d_4[0][0]            \n",
            "__________________________________________________________________________________________________\n",
            "concatenate_2 (Concatenate)     (None, 4, 4, 480)    0           conv2d_10[0][0]                  \n",
            "                                                                 conv2d_12[0][0]                  \n",
            "                                                                 conv2d_14[0][0]                  \n",
            "                                                                 conv2d_15[0][0]                  \n",
            "__________________________________________________________________________________________________\n",
            "max_pooling2d_5 (MaxPooling2D)  (None, 2, 2, 480)    0           concatenate_2[0][0]              \n",
            "__________________________________________________________________________________________________\n",
            "conv2d_17 (Conv2D)              (None, 2, 2, 96)     46176       max_pooling2d_5[0][0]            \n",
            "__________________________________________________________________________________________________\n",
            "conv2d_19 (Conv2D)              (None, 2, 2, 16)     7696        max_pooling2d_5[0][0]            \n",
            "__________________________________________________________________________________________________\n",
            "max_pooling2d_6 (MaxPooling2D)  (None, 2, 2, 480)    0           max_pooling2d_5[0][0]            \n",
            "__________________________________________________________________________________________________\n",
            "conv2d_16 (Conv2D)              (None, 2, 2, 192)    92352       max_pooling2d_5[0][0]            \n",
            "__________________________________________________________________________________________________\n",
            "conv2d_18 (Conv2D)              (None, 2, 2, 208)    179920      conv2d_17[0][0]                  \n",
            "__________________________________________________________________________________________________\n",
            "conv2d_20 (Conv2D)              (None, 2, 2, 48)     19248       conv2d_19[0][0]                  \n",
            "__________________________________________________________________________________________________\n",
            "conv2d_21 (Conv2D)              (None, 2, 2, 64)     30784       max_pooling2d_6[0][0]            \n",
            "__________________________________________________________________________________________________\n",
            "concatenate_3 (Concatenate)     (None, 2, 2, 512)    0           conv2d_16[0][0]                  \n",
            "                                                                 conv2d_18[0][0]                  \n",
            "                                                                 conv2d_20[0][0]                  \n",
            "                                                                 conv2d_21[0][0]                  \n",
            "__________________________________________________________________________________________________\n",
            "conv2d_23 (Conv2D)              (None, 2, 2, 112)    57456       concatenate_3[0][0]              \n",
            "__________________________________________________________________________________________________\n",
            "conv2d_25 (Conv2D)              (None, 2, 2, 24)     12312       concatenate_3[0][0]              \n",
            "__________________________________________________________________________________________________\n",
            "max_pooling2d_7 (MaxPooling2D)  (None, 2, 2, 512)    0           concatenate_3[0][0]              \n",
            "__________________________________________________________________________________________________\n",
            "conv2d_22 (Conv2D)              (None, 2, 2, 160)    82080       concatenate_3[0][0]              \n",
            "__________________________________________________________________________________________________\n",
            "conv2d_24 (Conv2D)              (None, 2, 2, 224)    226016      conv2d_23[0][0]                  \n",
            "__________________________________________________________________________________________________\n",
            "conv2d_26 (Conv2D)              (None, 2, 2, 64)     38464       conv2d_25[0][0]                  \n",
            "__________________________________________________________________________________________________\n",
            "conv2d_27 (Conv2D)              (None, 2, 2, 64)     32832       max_pooling2d_7[0][0]            \n",
            "__________________________________________________________________________________________________\n",
            "concatenate_4 (Concatenate)     (None, 2, 2, 512)    0           conv2d_22[0][0]                  \n",
            "                                                                 conv2d_24[0][0]                  \n",
            "                                                                 conv2d_26[0][0]                  \n",
            "                                                                 conv2d_27[0][0]                  \n",
            "__________________________________________________________________________________________________\n",
            "conv2d_29 (Conv2D)              (None, 2, 2, 128)    65664       concatenate_4[0][0]              \n",
            "__________________________________________________________________________________________________\n",
            "conv2d_31 (Conv2D)              (None, 2, 2, 24)     12312       concatenate_4[0][0]              \n",
            "__________________________________________________________________________________________________\n",
            "max_pooling2d_8 (MaxPooling2D)  (None, 2, 2, 512)    0           concatenate_4[0][0]              \n",
            "__________________________________________________________________________________________________\n",
            "conv2d_28 (Conv2D)              (None, 2, 2, 128)    65664       concatenate_4[0][0]              \n",
            "__________________________________________________________________________________________________\n",
            "conv2d_30 (Conv2D)              (None, 2, 2, 256)    295168      conv2d_29[0][0]                  \n",
            "__________________________________________________________________________________________________\n",
            "conv2d_32 (Conv2D)              (None, 2, 2, 64)     38464       conv2d_31[0][0]                  \n",
            "__________________________________________________________________________________________________\n",
            "conv2d_33 (Conv2D)              (None, 2, 2, 64)     32832       max_pooling2d_8[0][0]            \n",
            "__________________________________________________________________________________________________\n",
            "concatenate_5 (Concatenate)     (None, 2, 2, 512)    0           conv2d_28[0][0]                  \n",
            "                                                                 conv2d_30[0][0]                  \n",
            "                                                                 conv2d_32[0][0]                  \n",
            "                                                                 conv2d_33[0][0]                  \n",
            "__________________________________________________________________________________________________\n",
            "conv2d_35 (Conv2D)              (None, 2, 2, 144)    73872       concatenate_5[0][0]              \n",
            "__________________________________________________________________________________________________\n",
            "conv2d_37 (Conv2D)              (None, 2, 2, 32)     16416       concatenate_5[0][0]              \n",
            "__________________________________________________________________________________________________\n",
            "max_pooling2d_9 (MaxPooling2D)  (None, 2, 2, 512)    0           concatenate_5[0][0]              \n",
            "__________________________________________________________________________________________________\n",
            "conv2d_34 (Conv2D)              (None, 2, 2, 112)    57456       concatenate_5[0][0]              \n",
            "__________________________________________________________________________________________________\n",
            "conv2d_36 (Conv2D)              (None, 2, 2, 288)    373536      conv2d_35[0][0]                  \n",
            "__________________________________________________________________________________________________\n",
            "conv2d_38 (Conv2D)              (None, 2, 2, 64)     51264       conv2d_37[0][0]                  \n",
            "__________________________________________________________________________________________________\n",
            "conv2d_39 (Conv2D)              (None, 2, 2, 64)     32832       max_pooling2d_9[0][0]            \n",
            "__________________________________________________________________________________________________\n",
            "concatenate_6 (Concatenate)     (None, 2, 2, 528)    0           conv2d_34[0][0]                  \n",
            "                                                                 conv2d_36[0][0]                  \n",
            "                                                                 conv2d_38[0][0]                  \n",
            "                                                                 conv2d_39[0][0]                  \n",
            "__________________________________________________________________________________________________\n",
            "conv2d_41 (Conv2D)              (None, 2, 2, 160)    84640       concatenate_6[0][0]              \n",
            "__________________________________________________________________________________________________\n",
            "conv2d_43 (Conv2D)              (None, 2, 2, 32)     16928       concatenate_6[0][0]              \n",
            "__________________________________________________________________________________________________\n",
            "max_pooling2d_10 (MaxPooling2D) (None, 2, 2, 528)    0           concatenate_6[0][0]              \n",
            "__________________________________________________________________________________________________\n",
            "conv2d_40 (Conv2D)              (None, 2, 2, 256)    135424      concatenate_6[0][0]              \n",
            "__________________________________________________________________________________________________\n",
            "conv2d_42 (Conv2D)              (None, 2, 2, 320)    461120      conv2d_41[0][0]                  \n",
            "__________________________________________________________________________________________________\n",
            "conv2d_44 (Conv2D)              (None, 2, 2, 128)    102528      conv2d_43[0][0]                  \n",
            "__________________________________________________________________________________________________\n",
            "conv2d_45 (Conv2D)              (None, 2, 2, 128)    67712       max_pooling2d_10[0][0]           \n",
            "__________________________________________________________________________________________________\n",
            "concatenate_7 (Concatenate)     (None, 2, 2, 832)    0           conv2d_40[0][0]                  \n",
            "                                                                 conv2d_42[0][0]                  \n",
            "                                                                 conv2d_44[0][0]                  \n",
            "                                                                 conv2d_45[0][0]                  \n",
            "__________________________________________________________________________________________________\n",
            "max_pooling2d_11 (MaxPooling2D) (None, 1, 1, 832)    0           concatenate_7[0][0]              \n",
            "__________________________________________________________________________________________________\n",
            "conv2d_47 (Conv2D)              (None, 1, 1, 160)    133280      max_pooling2d_11[0][0]           \n",
            "__________________________________________________________________________________________________\n",
            "conv2d_49 (Conv2D)              (None, 1, 1, 32)     26656       max_pooling2d_11[0][0]           \n",
            "__________________________________________________________________________________________________\n",
            "max_pooling2d_12 (MaxPooling2D) (None, 1, 1, 832)    0           max_pooling2d_11[0][0]           \n",
            "__________________________________________________________________________________________________\n",
            "conv2d_46 (Conv2D)              (None, 1, 1, 256)    213248      max_pooling2d_11[0][0]           \n",
            "__________________________________________________________________________________________________\n",
            "conv2d_48 (Conv2D)              (None, 1, 1, 320)    461120      conv2d_47[0][0]                  \n",
            "__________________________________________________________________________________________________\n",
            "conv2d_50 (Conv2D)              (None, 1, 1, 128)    102528      conv2d_49[0][0]                  \n",
            "__________________________________________________________________________________________________\n",
            "conv2d_51 (Conv2D)              (None, 1, 1, 128)    106624      max_pooling2d_12[0][0]           \n",
            "__________________________________________________________________________________________________\n",
            "concatenate_8 (Concatenate)     (None, 1, 1, 832)    0           conv2d_46[0][0]                  \n",
            "                                                                 conv2d_48[0][0]                  \n",
            "                                                                 conv2d_50[0][0]                  \n",
            "                                                                 conv2d_51[0][0]                  \n",
            "__________________________________________________________________________________________________\n",
            "conv2d_53 (Conv2D)              (None, 1, 1, 192)    159936      concatenate_8[0][0]              \n",
            "__________________________________________________________________________________________________\n",
            "conv2d_55 (Conv2D)              (None, 1, 1, 48)     39984       concatenate_8[0][0]              \n",
            "__________________________________________________________________________________________________\n",
            "max_pooling2d_13 (MaxPooling2D) (None, 1, 1, 832)    0           concatenate_8[0][0]              \n",
            "__________________________________________________________________________________________________\n",
            "conv2d_52 (Conv2D)              (None, 1, 1, 384)    319872      concatenate_8[0][0]              \n",
            "__________________________________________________________________________________________________\n",
            "conv2d_54 (Conv2D)              (None, 1, 1, 384)    663936      conv2d_53[0][0]                  \n",
            "__________________________________________________________________________________________________\n",
            "conv2d_56 (Conv2D)              (None, 1, 1, 128)    153728      conv2d_55[0][0]                  \n",
            "__________________________________________________________________________________________________\n",
            "conv2d_57 (Conv2D)              (None, 1, 1, 128)    106624      max_pooling2d_13[0][0]           \n",
            "__________________________________________________________________________________________________\n",
            "concatenate_9 (Concatenate)     (None, 1, 1, 1024)   0           conv2d_52[0][0]                  \n",
            "                                                                 conv2d_54[0][0]                  \n",
            "                                                                 conv2d_56[0][0]                  \n",
            "                                                                 conv2d_57[0][0]                  \n",
            "__________________________________________________________________________________________________\n",
            "average_pooling2d_1 (AveragePoo (None, 1, 1, 1024)   0           concatenate_9[0][0]              \n",
            "__________________________________________________________________________________________________\n",
            "flatten_1 (Flatten)             (None, 1024)         0           average_pooling2d_1[0][0]        \n",
            "__________________________________________________________________________________________________\n",
            "dropout_1 (Dropout)             (None, 1024)         0           flatten_1[0][0]                  \n",
            "__________________________________________________________________________________________________\n",
            "dense_1 (Dense)                 (None, 10)           10250       dropout_1[0][0]                  \n",
            "__________________________________________________________________________________________________\n",
            "dense_2 (Dense)                 (None, 10)           110         dense_1[0][0]                    \n",
            "==================================================================================================\n",
            "Total params: 5,978,664\n",
            "Trainable params: 5,978,152\n",
            "Non-trainable params: 512\n",
            "__________________________________________________________________________________________________\n",
            "Epoch 1/50\n",
            " - 35s - loss: 0.8636 - accuracy: 0.7299 - val_loss: 1.0607 - val_accuracy: 0.8300\n",
            "Epoch 2/50\n",
            " - 25s - loss: 0.3166 - accuracy: 0.9347 - val_loss: 0.5004 - val_accuracy: 0.9452\n",
            "Epoch 3/50\n",
            " - 25s - loss: 0.2620 - accuracy: 0.9485 - val_loss: 0.1024 - val_accuracy: 0.9594\n",
            "Epoch 4/50\n",
            " - 25s - loss: 0.2328 - accuracy: 0.9558 - val_loss: 0.2993 - val_accuracy: 0.9466\n",
            "Epoch 5/50\n",
            " - 25s - loss: 0.2146 - accuracy: 0.9607 - val_loss: 0.5582 - val_accuracy: 0.9522\n",
            "Epoch 6/50\n",
            " - 25s - loss: 0.1984 - accuracy: 0.9645 - val_loss: 0.2327 - val_accuracy: 0.9686\n",
            "Epoch 7/50\n",
            " - 25s - loss: 0.1892 - accuracy: 0.9648 - val_loss: 0.4346 - val_accuracy: 0.9567\n",
            "Epoch 8/50\n",
            " - 25s - loss: 0.1824 - accuracy: 0.9661 - val_loss: 0.0825 - val_accuracy: 0.9690\n",
            "Epoch 9/50\n",
            " - 25s - loss: 0.1733 - accuracy: 0.9683 - val_loss: 0.0606 - val_accuracy: 0.9709\n",
            "Epoch 10/50\n",
            " - 25s - loss: 0.1667 - accuracy: 0.9703 - val_loss: 0.0582 - val_accuracy: 0.9687\n",
            "Epoch 11/50\n",
            " - 25s - loss: 0.1601 - accuracy: 0.9705 - val_loss: 0.1367 - val_accuracy: 0.9390\n",
            "Epoch 12/50\n",
            " - 25s - loss: 0.1633 - accuracy: 0.9698 - val_loss: 0.1965 - val_accuracy: 0.9632\n",
            "Epoch 13/50\n",
            " - 25s - loss: 0.1518 - accuracy: 0.9720 - val_loss: 0.1353 - val_accuracy: 0.9640\n",
            "Epoch 14/50\n",
            " - 25s - loss: 0.1522 - accuracy: 0.9719 - val_loss: 0.5898 - val_accuracy: 0.9710\n",
            "Epoch 15/50\n",
            " - 25s - loss: 0.1477 - accuracy: 0.9731 - val_loss: 0.0515 - val_accuracy: 0.9697\n",
            "Epoch 16/50\n",
            " - 25s - loss: 0.1433 - accuracy: 0.9736 - val_loss: 0.0601 - val_accuracy: 0.9756\n",
            "Epoch 17/50\n",
            " - 25s - loss: 0.1339 - accuracy: 0.9748 - val_loss: 0.0745 - val_accuracy: 0.9723\n",
            "Epoch 18/50\n",
            " - 25s - loss: 0.1415 - accuracy: 0.9736 - val_loss: 0.1187 - val_accuracy: 0.9626\n",
            "Epoch 19/50\n",
            " - 25s - loss: 0.1318 - accuracy: 0.9750 - val_loss: 0.2839 - val_accuracy: 0.9749\n",
            "Epoch 20/50\n",
            " - 25s - loss: 0.1338 - accuracy: 0.9746 - val_loss: 0.1006 - val_accuracy: 0.9735\n",
            "Epoch 21/50\n",
            " - 25s - loss: 0.1324 - accuracy: 0.9752 - val_loss: 0.1106 - val_accuracy: 0.9656\n",
            "Epoch 22/50\n",
            " - 25s - loss: 0.1258 - accuracy: 0.9757 - val_loss: 0.0822 - val_accuracy: 0.9550\n",
            "Epoch 23/50\n",
            " - 25s - loss: 0.1250 - accuracy: 0.9763 - val_loss: 0.0710 - val_accuracy: 0.9726\n",
            "Epoch 24/50\n",
            " - 25s - loss: 0.1255 - accuracy: 0.9760 - val_loss: 0.0544 - val_accuracy: 0.9606\n",
            "Epoch 25/50\n",
            " - 25s - loss: 0.1219 - accuracy: 0.9765 - val_loss: 0.2462 - val_accuracy: 0.9725\n",
            "Epoch 26/50\n",
            " - 25s - loss: 0.1196 - accuracy: 0.9768 - val_loss: 0.0926 - val_accuracy: 0.9748\n",
            "Epoch 27/50\n",
            " - 25s - loss: 0.1179 - accuracy: 0.9768 - val_loss: 0.2757 - val_accuracy: 0.9760\n",
            "Epoch 28/50\n",
            " - 25s - loss: 0.1157 - accuracy: 0.9776 - val_loss: 0.0812 - val_accuracy: 0.9762\n",
            "Epoch 29/50\n",
            " - 25s - loss: 0.1156 - accuracy: 0.9777 - val_loss: 0.2790 - val_accuracy: 0.9748\n",
            "Epoch 30/50\n",
            " - 25s - loss: 0.1117 - accuracy: 0.9787 - val_loss: 0.0417 - val_accuracy: 0.9760\n",
            "Epoch 31/50\n",
            " - 25s - loss: 0.1147 - accuracy: 0.9760 - val_loss: 0.1467 - val_accuracy: 0.9802\n",
            "Epoch 32/50\n",
            " - 25s - loss: 0.1122 - accuracy: 0.9783 - val_loss: 0.1929 - val_accuracy: 0.9780\n",
            "Epoch 33/50\n",
            " - 25s - loss: 0.1084 - accuracy: 0.9783 - val_loss: 0.0662 - val_accuracy: 0.9793\n",
            "Epoch 34/50\n",
            " - 25s - loss: 0.1078 - accuracy: 0.9788 - val_loss: 0.0375 - val_accuracy: 0.9770\n",
            "Epoch 35/50\n",
            " - 25s - loss: 0.1058 - accuracy: 0.9786 - val_loss: 0.1265 - val_accuracy: 0.9783\n",
            "Epoch 36/50\n",
            " - 25s - loss: 0.1059 - accuracy: 0.9784 - val_loss: 0.0417 - val_accuracy: 0.9753\n",
            "Epoch 37/50\n",
            " - 25s - loss: 0.1085 - accuracy: 0.9782 - val_loss: 0.1127 - val_accuracy: 0.9778\n",
            "Epoch 38/50\n",
            " - 25s - loss: 0.0989 - accuracy: 0.9806 - val_loss: 0.0347 - val_accuracy: 0.9827\n",
            "Epoch 39/50\n",
            " - 25s - loss: 0.1007 - accuracy: 0.9801 - val_loss: 0.0792 - val_accuracy: 0.9796\n",
            "Epoch 40/50\n",
            " - 25s - loss: 0.0981 - accuracy: 0.9805 - val_loss: 0.1529 - val_accuracy: 0.9702\n",
            "Epoch 41/50\n",
            " - 25s - loss: 0.1003 - accuracy: 0.9793 - val_loss: 0.0444 - val_accuracy: 0.9736\n",
            "Epoch 42/50\n",
            " - 25s - loss: 0.0949 - accuracy: 0.9814 - val_loss: 0.0625 - val_accuracy: 0.9795\n",
            "Epoch 43/50\n",
            " - 25s - loss: 0.1002 - accuracy: 0.9804 - val_loss: 0.0682 - val_accuracy: 0.9773\n",
            "Epoch 44/50\n",
            " - 25s - loss: 0.0976 - accuracy: 0.9799 - val_loss: 0.4387 - val_accuracy: 0.9713\n",
            "Epoch 45/50\n",
            " - 25s - loss: 0.0972 - accuracy: 0.9805 - val_loss: 0.0534 - val_accuracy: 0.9772\n",
            "Epoch 46/50\n",
            " - 25s - loss: 0.0966 - accuracy: 0.9806 - val_loss: 0.1217 - val_accuracy: 0.9791\n",
            "Epoch 47/50\n",
            " - 25s - loss: 0.0944 - accuracy: 0.9809 - val_loss: 0.0426 - val_accuracy: 0.9821\n",
            "Epoch 48/50\n",
            " - 25s - loss: 0.0935 - accuracy: 0.9812 - val_loss: 0.0348 - val_accuracy: 0.9765\n",
            "Epoch 49/50\n",
            " - 25s - loss: 0.0919 - accuracy: 0.9816 - val_loss: 0.0365 - val_accuracy: 0.9711\n",
            "Epoch 50/50\n",
            " - 25s - loss: 0.0927 - accuracy: 0.9814 - val_loss: 0.0404 - val_accuracy: 0.9737\n"
          ],
          "name": "stdout"
        }
      ]
    },
    {
      "cell_type": "code",
      "metadata": {
        "id": "RaerLz_XsWWG",
        "colab_type": "code",
        "colab": {}
      },
      "source": [
        "\n",
        "# save model\n",
        "# method one\n",
        "model.save('googlenet.h5')\n",
        "\n",
        "# method two\n",
        "# save model by json and weights\n",
        "# save json\n",
        "from keras.models import model_from_json\n",
        "json_string = model.to_json()\n",
        "with open(r'googlenet.json', 'w') as file:\n",
        "    file.write(json_string)\n",
        "\n",
        "# save weights\n",
        "model.save_weights('googlenet.h5')\n"
      ],
      "execution_count": 0,
      "outputs": []
    },
    {
      "cell_type": "code",
      "metadata": {
        "id": "_JL3WAvKwpUO",
        "colab_type": "code",
        "colab": {}
      },
      "source": [
        "import json\n",
        "# Get the dictionary containing each metric and the loss for each epoch\n",
        "GoogleNet_mnist_history_dict = H.history\n",
        "# Save it under the form of a json file\n",
        "json = json.dumps(str(GoogleNet_mnist_history_dict))\n",
        "f = open(\"GoogleNet_mnist_history_dict.json\",\"w\")\n",
        "f.write(json)\n",
        "f.close()"
      ],
      "execution_count": 0,
      "outputs": []
    },
    {
      "cell_type": "code",
      "metadata": {
        "id": "CY9yuCERxC5L",
        "colab_type": "code",
        "colab": {}
      },
      "source": [
        "import json \n",
        "data = {}\n",
        "# Opening JSON file \n",
        "with open(\"GoogleNet_mnist_history_dict.json\") as json_file: \n",
        "    data = json.load(json_file)"
      ],
      "execution_count": 0,
      "outputs": []
    },
    {
      "cell_type": "code",
      "metadata": {
        "id": "mrMVjHiQxDhQ",
        "colab_type": "code",
        "outputId": "bdabff20-07f0-4a17-f761-36d6ac05dd2c",
        "colab": {
          "base_uri": "https://localhost:8080/",
          "height": 52
        }
      },
      "source": [
        "print(type(data))\n",
        "result_dict = eval(data)\n",
        "print(result_dict.keys())"
      ],
      "execution_count": 15,
      "outputs": [
        {
          "output_type": "stream",
          "text": [
            "<class 'str'>\n",
            "dict_keys(['val_loss', 'val_accuracy', 'loss', 'accuracy'])\n"
          ],
          "name": "stdout"
        }
      ]
    },
    {
      "cell_type": "code",
      "metadata": {
        "id": "IZ5a-CdSxDjw",
        "colab_type": "code",
        "outputId": "a47fd5db-6b7d-45f7-9727-0c2891a4a20f",
        "colab": {
          "base_uri": "https://localhost:8080/",
          "height": 573
        }
      },
      "source": [
        "plt.plot(result_dict['accuracy'])\n",
        "plt.plot(result_dict['val_accuracy'])\n",
        "plt.title('model accuracy')\n",
        "plt.ylabel('accuracy')\n",
        "plt.xlabel('epoch')\n",
        "plt.legend(['train', 'test'], loc='upper left')\n",
        "plt.show()\n",
        "# summarize history for loss\n",
        "plt.plot(result_dict['loss'])\n",
        "plt.plot(result_dict['val_loss'])\n",
        "plt.title('model loss')\n",
        "plt.ylabel('loss')\n",
        "plt.xlabel('epoch')\n",
        "plt.legend(['train', 'test'], loc='upper left')\n",
        "plt.show()"
      ],
      "execution_count": 16,
      "outputs": [
        {
          "output_type": "display_data",
          "data": {
            "image/png": "[encoded data removed]",
            "text/plain": [
              "<Figure size 432x288 with 1 Axes>"
            ]
          },
          "metadata": {
            "tags": [],
            "needs_background": "light"
          }
        },
        {
          "output_type": "display_data",
          "data": {
            "image/png": "[encoded data removed]",
            "text/plain": [
              "<Figure size 432x288 with 1 Axes>"
            ]
          },
          "metadata": {
            "tags": [],
            "needs_background": "light"
          }
        }
      ]
    },
    {
      "cell_type": "code",
      "metadata": {
        "id": "wfmL8Cn8xn6B",
        "colab_type": "code",
        "outputId": "6673f649-b16c-44e5-ac77-77835d1987a5",
        "colab": {
          "base_uri": "https://localhost:8080/",
          "height": 325
        }
      },
      "source": [
        "nb_epoch = EPOCHS\n",
        "\n",
        "fig1 = plt.figure(figsize = (12,10))\n",
        "ax1 = fig1.add_subplot(2,2,1)\n",
        "ax2 = fig1.add_subplot(2,2,2)\n",
        "\n",
        "ax1.plot(np.arange(1,nb_epoch+1), result_dict['val_loss'])\n",
        "ax1.set(xlabel='Epochs', ylabel='Validation Loss',\n",
        "       title='Epochs vs. Validation Loss')\n",
        "ax2.plot(np.arange(1,nb_epoch+1), result_dict['loss'])\n",
        "ax2.set(xlabel='Epochs', ylabel='Training Loss',\n",
        "       title='Epochs vs. Training Loss')\n",
        "plt.show()"
      ],
      "execution_count": 17,
      "outputs": [
        {
          "output_type": "display_data",
          "data": {
            "image/png": "[encoded data removed]",
            "text/plain": [
              "<Figure size 864x720 with 2 Axes>"
            ]
          },
          "metadata": {
            "tags": [],
            "needs_background": "light"
          }
        }
      ]
    },
    {
      "cell_type": "code",
      "metadata": {
        "id": "YbW4Y5Q3xn86",
        "colab_type": "code",
        "outputId": "20617d09-3e00-45ab-8b7c-66402ba22dc4",
        "colab": {
          "base_uri": "https://localhost:8080/",
          "height": 325
        }
      },
      "source": [
        "\n",
        "fig1 = plt.figure(figsize = (12,10))\n",
        "ax1 = fig1.add_subplot(2,2,1)\n",
        "ax2 = fig1.add_subplot(2,2,2)\n",
        "\n",
        "ax1.plot(np.arange(1,nb_epoch+1), result_dict['val_accuracy'])\n",
        "ax1.set(xlabel='Epochs', ylabel='Validation Accuracy',\n",
        "       title='Epochs vs. Validation Accuracy')\n",
        "ax2.plot(np.arange(1,nb_epoch+1), result_dict['accuracy'])\n",
        "ax2.set(xlabel='Epochs', ylabel='Training Accuracy',\n",
        "       title='Epochs vs. Training Accuracy')\n",
        "plt.show()"
      ],
      "execution_count": 18,
      "outputs": [
        {
          "output_type": "display_data",
          "data": {
            "image/png": "[encoded data removed]",
            "text/plain": [
              "<Figure size 864x720 with 2 Axes>"
            ]
          },
          "metadata": {
            "tags": [],
            "needs_background": "light"
          }
        }
      ]
    },
    {
      "cell_type": "code",
      "metadata": {
        "id": "suv1HPxTxoBs",
        "colab_type": "code",
        "colab": {}
      },
      "source": [
        "# import tensorflow as tf"
      ],
      "execution_count": 0,
      "outputs": []
    },
    {
      "cell_type": "code",
      "metadata": {
        "id": "830FvXCExoAJ",
        "colab_type": "code",
        "colab": {}
      },
      "source": [
        "predictions = model.predict(x_test, verbose=0)"
      ],
      "execution_count": 0,
      "outputs": []
    },
    {
      "cell_type": "code",
      "metadata": {
        "id": "wiHLIRl9RZbE",
        "colab_type": "code",
        "outputId": "9063a107-ccea-49dd-a02f-3a5fee976112",
        "colab": {
          "base_uri": "https://localhost:8080/",
          "height": 34
        }
      },
      "source": [
        "np.argmax(y_test[0])"
      ],
      "execution_count": 20,
      "outputs": [
        {
          "output_type": "execute_result",
          "data": {
            "text/plain": [
              "7"
            ]
          },
          "metadata": {
            "tags": []
          },
          "execution_count": 20
        }
      ]
    },
    {
      "cell_type": "code",
      "metadata": {
        "id": "2gzFZCIvzbcB",
        "colab_type": "code",
        "colab": {}
      },
      "source": [
        "def test_accuracy():\n",
        "    err = []\n",
        "    t = 0\n",
        "    for i in range(predictions.shape[0]):\n",
        "        if np.argmax(predictions[i]) == np.argmax(y_test[i]):\n",
        "            t = t+1\n",
        "        else:\n",
        "            err.append(i)\n",
        "    return t, float(t)*100/predictions.shape[0], err"
      ],
      "execution_count": 0,
      "outputs": []
    },
    {
      "cell_type": "code",
      "metadata": {
        "id": "0UJRNAxTzbey",
        "colab_type": "code",
        "outputId": "f1a0efc7-8e4f-4e97-d7a5-88f831f92e63",
        "colab": {
          "base_uri": "https://localhost:8080/",
          "height": 34
        }
      },
      "source": [
        "p = test_accuracy()\n",
        "# print(p[1])\n",
        "print(\"Test accuracy: {} %\".format(p[1]))"
      ],
      "execution_count": 22,
      "outputs": [
        {
          "output_type": "stream",
          "text": [
            "Test accuracy: 98.66 %\n"
          ],
          "name": "stdout"
        }
      ]
    },
    {
      "cell_type": "code",
      "metadata": {
        "id": "g4Rslc3gzbh6",
        "colab_type": "code",
        "outputId": "6a3cc67b-d0f6-40bc-82b7-adb49a0bc74b",
        "colab": {
          "base_uri": "https://localhost:8080/",
          "height": 450
        }
      },
      "source": [
        "fig1 = plt.figure(figsize = (15,15))\n",
        "\n",
        "for i in range(5):\n",
        "    ax1 = fig1.add_subplot(1,5,i+1) \n",
        "    ax1.imshow(x_test[p[2][i]].reshape(28,28), interpolation='none', cmap=plt.cm.gray)\n",
        "    ax2 = fig1.add_subplot(2,5,i+6) \n",
        "    ax2.imshow(x_test[p[2][i+6]].reshape(28,28), interpolation='none', cmap=plt.cm.gray)\n",
        "plt.show()\n",
        "\n",
        "# print(\"True:          {}\".format(y_test[p[2][0:5]]))\n",
        "print(\"True classification as: {}\".format(np.argmax(predictions[p[2][0:5]], axis=1)))\n",
        "\n",
        "# print(\"True:          {}\".format(y_test[p[2][6:11]]))\n",
        "print(\"True classification as: {}\".format(np.argmax(predictions[p[2][6:11]], axis=1)))"
      ],
      "execution_count": 23,
      "outputs": [
        {
          "output_type": "display_data",
          "data": {
            "image/png": "[encoded data removed]",
            "text/plain": [
              "<Figure size 1080x1080 with 10 Axes>"
            ]
          },
          "metadata": {
            "tags": [],
            "needs_background": "light"
          }
        },
        {
          "output_type": "stream",
          "text": [
            "True classification as: [3 3 9 0 2]\n",
            "True classification as: [6 9 7 3 3]\n"
          ],
          "name": "stdout"
        }
      ]
    },
    {
      "cell_type": "code",
      "metadata": {
        "id": "4-QDnTB-uOoy",
        "colab_type": "code",
        "colab": {}
      },
      "source": [
        ""
      ],
      "execution_count": 0,
      "outputs": []
    }
  ]
}