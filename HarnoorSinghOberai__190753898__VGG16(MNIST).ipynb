{
  "nbformat": 4,
  "nbformat_minor": 0,
  "metadata": {
    "colab": {
      "name": "HarnoorSinghOberai__190753898__VGG16(MNIST).ipynb",
      "provenance": [],
      "authorship_tag": "ABX9TyMhNWe9mfyj750LRtbk9hTF",
      "include_colab_link": true
    },
    "kernelspec": {
      "name": "python3",
      "display_name": "Python 3"
    },
    "accelerator": "GPU"
  },
  "cells": [
    {
      "cell_type": "markdown",
      "metadata": {
        "id": "view-in-github",
        "colab_type": "text"
      },
      "source": [
        "<a href=\"https://colab.research.google.com/github/HarnoorOberai/Image-Classification/blob/master/HarnoorSinghOberai__190753898__VGG16(MNIST).ipynb\" target=\"_parent\"><img src=\"https://colab.research.google.com/assets/colab-badge.svg\" alt=\"Open In Colab\"/></a>"
      ]
    },
    {
      "cell_type": "code",
      "metadata": {
        "id": "LHrrzfC0rXX8",
        "colab_type": "code",
        "colab": {}
      },
      "source": [
        "from __future__ import print_function\n",
        "import warnings\n",
        "warnings.filterwarnings('ignore')\n",
        "\n",
        "from keras.models import Model\n",
        "from keras.utils import plot_model\n",
        "from keras import regularizers\n",
        "from keras import backend as K\n",
        "from keras.layers import Input,Flatten, Dense,Dropout,BatchNormalization, concatenate\n",
        "from keras.layers.convolutional import Conv2D,MaxPooling2D,AveragePooling2D"
      ],
      "execution_count": 0,
      "outputs": []
    },
    {
      "cell_type": "code",
      "metadata": {
        "id": "RZqqfGL6tTf4",
        "colab_type": "code",
        "colab": {}
      },
      "source": [
        "NB_CLASS=10\n",
        "LEARNING_RATE=0.01\n",
        "MOMENTUM=0.9\n",
        "ALPHA=0.0001\n",
        "BETA=0.75\n",
        "GAMMA=0.1\n",
        "DROPOUT=0.4\n",
        "WEIGHT_DECAY=0.0005\n",
        "LRN2D_NORM=True\n",
        "DATA_FORMAT='channels_last' # Theano:'channels_first' Tensorflow:'channels_last'\n",
        "USE_BN=True\n",
        "IM_WIDTH=28\n",
        "IM_HEIGHT=28\n",
        "EPOCH=50"
      ],
      "execution_count": 0,
      "outputs": []
    },
    {
      "cell_type": "code",
      "metadata": {
        "id": "NZbK4Nutrdru",
        "colab_type": "code",
        "colab": {}
      },
      "source": [
        "def conv2D_lrn2d(x,filters,kernel_size,padding='same',activation='relu',\n",
        "                 use_bias=True,kernel_initializer='glorot_uniform',bias_initializer='zeros',\n",
        "                 kernel_regularizer=None,bias_regularizer=None,activity_regularizer=None,\n",
        "                 kernel_constraint=None,bias_constraint=None,lrn2d_norm=LRN2D_NORM,weight_decay=WEIGHT_DECAY):\n",
        "    #l2 normalization\n",
        "    if weight_decay:\n",
        "        kernel_regularizer=regularizers.l2(weight_decay)\n",
        "        bias_regularizer=regularizers.l2(weight_decay)\n",
        "    else:\n",
        "        kernel_regularizer=None\n",
        "        bias_regularizer=None\n",
        "    x=Conv2D(filters=filters,kernel_size=kernel_size,padding=padding,\n",
        "             activation=activation,use_bias=use_bias,kernel_initializer=kernel_initializer,\n",
        "             bias_initializer=bias_initializer,kernel_regularizer=kernel_regularizer,bias_regularizer=bias_regularizer,\n",
        "             activity_regularizer=activity_regularizer,kernel_constraint=kernel_constraint,bias_constraint=bias_constraint)(x)\n",
        "    if lrn2d_norm:\n",
        "        #batch normalization\n",
        "        x=BatchNormalization()(x)\n",
        "\n",
        "    return x"
      ],
      "execution_count": 0,
      "outputs": []
    },
    {
      "cell_type": "code",
      "metadata": {
        "id": "oJNOrb7srdxW",
        "colab_type": "code",
        "colab": {}
      },
      "source": [
        "class VGG16:\n",
        "    @staticmethod\n",
        "    def build(width, height, depth, NB_CLASS):\n",
        "        INP_SHAPE = (height, width, depth)\n",
        "        img_input = Input(shape=INP_SHAPE)\n",
        "        CONCAT_AXIS = 3\n",
        "        # Data format:tensorflow,channels_last;theano,channels_last\n",
        "        if K.image_data_format() == 'channels_first':\n",
        "            INP_SHAPE = (depth, height, width)\n",
        "            img_input = Input(shape=INP_SHAPE)\n",
        "            CONCAT_AXIS = 1\n",
        "        \n",
        "        x = conv2D_lrn2d(img_input, 64, (3, 3), padding='same',activation='relu', lrn2d_norm=False)\n",
        "        x = conv2D_lrn2d(x, 64, (3, 3), padding='same',activation='relu', lrn2d_norm=False)\n",
        "        x = MaxPooling2D(pool_size=(2, 2), strides=(2,2), padding='same')(x)\n",
        "        x = BatchNormalization()(x)\n",
        "\n",
        "        x = conv2D_lrn2d(x, 128, (3, 3), padding='same',activation='relu', lrn2d_norm=False)\n",
        "        x = conv2D_lrn2d(x, 128, (3, 3), padding='same',activation='relu', lrn2d_norm=False)\n",
        "        x = MaxPooling2D(pool_size=(2, 2), strides=(2,2), padding='same')(x)\n",
        "        x = BatchNormalization()(x)\n",
        "\n",
        "        x = conv2D_lrn2d(x, 256, (3, 3), padding='same',activation='relu', lrn2d_norm=False)\n",
        "        x = conv2D_lrn2d(x, 256, (3, 3), padding='same',activation='relu', lrn2d_norm=False)\n",
        "        x = conv2D_lrn2d(x, 256, (3, 3), padding='same',activation='relu', lrn2d_norm=False)\n",
        "        x = MaxPooling2D(pool_size=(2, 2), strides=(2,2), padding='same')(x)\n",
        "        x = BatchNormalization()(x)\n",
        "\n",
        "        x = conv2D_lrn2d(x, 512, (3, 3), padding='same',activation='relu', lrn2d_norm=False)\n",
        "        x = conv2D_lrn2d(x, 512, (3, 3), padding='same',activation='relu', lrn2d_norm=False)\n",
        "        x = conv2D_lrn2d(x, 512, (3, 3), padding='same',activation='relu', lrn2d_norm=False)\n",
        "        x = MaxPooling2D(pool_size=(2, 2), strides=(2,2), padding='same')(x)\n",
        "        x = BatchNormalization()(x)\n",
        "\n",
        "        x = Flatten()(x)\n",
        "        x = Dropout(DROPOUT)(x)\n",
        "        x = Dense(4096, activation='relu')(x)\n",
        "        x = Dense(4096, activation='relu')(x)\n",
        "        x = Dense(output_dim=NB_CLASS, activation='softmax')(x)\n",
        "\n",
        "        # Create a Keras Model\n",
        "        model = Model(input=img_input, output=[x])\n",
        "        model.summary()\n",
        "        # Save a PNG of the Model Build\n",
        "        # plot_model(model, to_file='../imgs/GoogLeNet.png')\n",
        "        # return the constructed network architecture\n",
        "        return model"
      ],
      "execution_count": 0,
      "outputs": []
    },
    {
      "cell_type": "code",
      "metadata": {
        "id": "T2_VAmZysOst",
        "colab_type": "code",
        "colab": {}
      },
      "source": [
        "import numpy as np\n",
        "from keras.utils import np_utils\n",
        "from keras.optimizers import Adam\n",
        "from keras.preprocessing.image import ImageDataGenerator\n",
        "from keras.models import Sequential\n",
        "from keras.layers.convolutional import Conv2D\n",
        "from keras.layers.convolutional import MaxPooling2D\n",
        "from keras.layers.core import Activation\n",
        "from keras.layers.core import Flatten\n",
        "from keras.layers.core import Dense\n",
        "from keras import backend as K\n",
        "from keras.models import load_model"
      ],
      "execution_count": 0,
      "outputs": []
    },
    {
      "cell_type": "code",
      "metadata": {
        "id": "GAOSm8O2sOvX",
        "colab_type": "code",
        "colab": {}
      },
      "source": [
        "# load minit data\n",
        "from keras.datasets import mnist\n",
        "(x_train, y_train),(x_test, y_test) = mnist.load_data()\n"
      ],
      "execution_count": 0,
      "outputs": []
    },
    {
      "cell_type": "code",
      "metadata": {
        "id": "RTBtLOT4sOyn",
        "colab_type": "code",
        "outputId": "2cd47dcd-0a6f-46a4-99cc-9bc8bf7f5b30",
        "colab": {
          "base_uri": "https://localhost:8080/",
          "height": 268
        }
      },
      "source": [
        "# plot 6 images as gray scale\n",
        "import matplotlib.pyplot as plt\n",
        "\n",
        "plt.subplot(321)\n",
        "plt.imshow(x_train[0],cmap=plt.get_cmap('gray'))\n",
        "plt.subplot(322)\n",
        "plt.imshow(x_train[1],cmap=plt.get_cmap('gray'))\n",
        "plt.subplot(323)\n",
        "plt.imshow(x_train[2],cmap=plt.get_cmap('gray'))\n",
        "plt.subplot(324)\n",
        "plt.imshow(x_train[3],cmap=plt.get_cmap('gray'))\n",
        "plt.subplot(325)\n",
        "plt.imshow(x_train[4],cmap=plt.get_cmap('gray'))\n",
        "plt.subplot(326)\n",
        "plt.imshow(x_train[5],cmap=plt.get_cmap('gray'))\n",
        "# show\n",
        "plt.show()"
      ],
      "execution_count": 21,
      "outputs": [
        {
          "output_type": "display_data",
          "data": {
            "image/png": "[encoded data removed]",
            "text/plain": [
              "<Figure size 432x288 with 6 Axes>"
            ]
          },
          "metadata": {
            "tags": [],
            "needs_background": "light"
          }
        }
      ]
    },
    {
      "cell_type": "code",
      "metadata": {
        "id": "vthTQejqsWN0",
        "colab_type": "code",
        "outputId": "b4cfa8cf-59f1-4504-bf06-4adcb2b99027",
        "colab": {
          "base_uri": "https://localhost:8080/",
          "height": 34
        }
      },
      "source": [
        "print(x_train.shape)\n",
        "x_train = x_train.reshape(x_train.shape[0], 28, 28, 1).astype('float32')\n",
        "x_test = x_test.reshape(x_test.shape[0], 28, 28, 1).astype('float32')\n",
        "\n",
        "# normalization\n",
        "x_train = x_train / 255.0\n",
        "x_test = x_test / 255.0\n",
        "\n",
        "# one-hot\n",
        "y_train = np_utils.to_categorical(y_train)\n",
        "y_test = np_utils.to_categorical(y_test)"
      ],
      "execution_count": 22,
      "outputs": [
        {
          "output_type": "stream",
          "text": [
            "(60000, 28, 28)\n"
          ],
          "name": "stdout"
        }
      ]
    },
    {
      "cell_type": "code",
      "metadata": {
        "id": "NNZwnversWQn",
        "colab_type": "code",
        "colab": {}
      },
      "source": [
        "# parameters\n",
        "EPOCHS = 50\n",
        "INIT_LR = 1e-3\n",
        "BS = 128\n",
        "CLASS_NUM = 10\n",
        "norm_size = 28\n"
      ],
      "execution_count": 0,
      "outputs": []
    },
    {
      "cell_type": "code",
      "metadata": {
        "id": "fzfqWAOWsWTc",
        "colab_type": "code",
        "outputId": "14eb7a24-562c-4f71-b977-6fecbfb31e9c",
        "colab": {
          "base_uri": "https://localhost:8080/",
          "height": 1000
        }
      },
      "source": [
        "# start to train model\n",
        "print('start to train model')\n",
        "\n",
        "model = VGG16.build(width=norm_size, height=norm_size, depth=1, NB_CLASS=CLASS_NUM)\n",
        "opt = Adam(lr=INIT_LR, decay=INIT_LR / EPOCHS)\n",
        "model.compile(loss=\"categorical_crossentropy\", optimizer=opt, metrics=[\"accuracy\"])\n",
        "\n",
        "\n",
        "# Use generators to save memory\n",
        "aug = ImageDataGenerator(rotation_range=30, width_shift_range=0.1,\n",
        "                             height_shift_range=0.1, shear_range=0.2, zoom_range=0.2,\n",
        "                             horizontal_flip=True, fill_mode=\"nearest\")\n",
        "\n",
        "H = model.fit_generator(aug.flow(x_train, y_train, batch_size=BS),\n",
        "                            steps_per_epoch=len(x_train) // BS, validation_data=aug.flow(x_test, y_test),\n",
        "                            epochs=EPOCHS, verbose=2, use_multiprocessing=False)\n"
      ],
      "execution_count": 24,
      "outputs": [
        {
          "output_type": "stream",
          "text": [
            "start to train model\n",
            "Model: \"model_1\"\n",
            "_________________________________________________________________\n",
            "Layer (type)                 Output Shape              Param #   \n",
            "=================================================================\n",
            "input_2 (InputLayer)         (None, 28, 28, 1)         0         \n",
            "_________________________________________________________________\n",
            "conv2d_1 (Conv2D)            (None, 28, 28, 64)        640       \n",
            "_________________________________________________________________\n",
            "conv2d_2 (Conv2D)            (None, 28, 28, 64)        36928     \n",
            "_________________________________________________________________\n",
            "max_pooling2d_1 (MaxPooling2 (None, 14, 14, 64)        0         \n",
            "_________________________________________________________________\n",
            "batch_normalization_1 (Batch (None, 14, 14, 64)        256       \n",
            "_________________________________________________________________\n",
            "conv2d_3 (Conv2D)            (None, 14, 14, 128)       73856     \n",
            "_________________________________________________________________\n",
            "conv2d_4 (Conv2D)            (None, 14, 14, 128)       147584    \n",
            "_________________________________________________________________\n",
            "max_pooling2d_2 (MaxPooling2 (None, 7, 7, 128)         0         \n",
            "_________________________________________________________________\n",
            "batch_normalization_2 (Batch (None, 7, 7, 128)         512       \n",
            "_________________________________________________________________\n",
            "conv2d_5 (Conv2D)            (None, 7, 7, 256)         295168    \n",
            "_________________________________________________________________\n",
            "conv2d_6 (Conv2D)            (None, 7, 7, 256)         590080    \n",
            "_________________________________________________________________\n",
            "conv2d_7 (Conv2D)            (None, 7, 7, 256)         590080    \n",
            "_________________________________________________________________\n",
            "max_pooling2d_3 (MaxPooling2 (None, 4, 4, 256)         0         \n",
            "_________________________________________________________________\n",
            "batch_normalization_3 (Batch (None, 4, 4, 256)         1024      \n",
            "_________________________________________________________________\n",
            "conv2d_8 (Conv2D)            (None, 4, 4, 512)         1180160   \n",
            "_________________________________________________________________\n",
            "conv2d_9 (Conv2D)            (None, 4, 4, 512)         2359808   \n",
            "_________________________________________________________________\n",
            "conv2d_10 (Conv2D)           (None, 4, 4, 512)         2359808   \n",
            "_________________________________________________________________\n",
            "max_pooling2d_4 (MaxPooling2 (None, 2, 2, 512)         0         \n",
            "_________________________________________________________________\n",
            "batch_normalization_4 (Batch (None, 2, 2, 512)         2048      \n",
            "_________________________________________________________________\n",
            "flatten_1 (Flatten)          (None, 2048)              0         \n",
            "_________________________________________________________________\n",
            "dropout_1 (Dropout)          (None, 2048)              0         \n",
            "_________________________________________________________________\n",
            "dense_1 (Dense)              (None, 4096)              8392704   \n",
            "_________________________________________________________________\n",
            "dense_2 (Dense)              (None, 4096)              16781312  \n",
            "_________________________________________________________________\n",
            "dense_3 (Dense)              (None, 10)                40970     \n",
            "=================================================================\n",
            "Total params: 32,852,938\n",
            "Trainable params: 32,851,018\n",
            "Non-trainable params: 1,920\n",
            "_________________________________________________________________\n",
            "Epoch 1/50\n",
            " - 31s - loss: 1.7027 - accuracy: 0.7535 - val_loss: 6.9047 - val_accuracy: 0.2504\n",
            "Epoch 2/50\n",
            " - 23s - loss: 0.6912 - accuracy: 0.9329 - val_loss: 0.6086 - val_accuracy: 0.9082\n",
            "Epoch 3/50\n",
            " - 24s - loss: 0.4715 - accuracy: 0.9469 - val_loss: 0.2865 - val_accuracy: 0.9230\n",
            "Epoch 4/50\n",
            " - 24s - loss: 0.3939 - accuracy: 0.9533 - val_loss: 0.2902 - val_accuracy: 0.9237\n",
            "Epoch 5/50\n",
            " - 24s - loss: 0.3525 - accuracy: 0.9550 - val_loss: 0.2782 - val_accuracy: 0.9586\n",
            "Epoch 6/50\n",
            " - 25s - loss: 0.3187 - accuracy: 0.9596 - val_loss: 0.3339 - val_accuracy: 0.9353\n",
            "Epoch 7/50\n",
            " - 25s - loss: 0.2974 - accuracy: 0.9612 - val_loss: 0.6026 - val_accuracy: 0.9611\n",
            "Epoch 8/50\n",
            " - 24s - loss: 0.2796 - accuracy: 0.9640 - val_loss: 0.3726 - val_accuracy: 0.9563\n",
            "Epoch 9/50\n",
            " - 24s - loss: 0.2617 - accuracy: 0.9661 - val_loss: 0.4958 - val_accuracy: 0.9510\n",
            "Epoch 10/50\n",
            " - 24s - loss: 0.2529 - accuracy: 0.9665 - val_loss: 0.1638 - val_accuracy: 0.9586\n",
            "Epoch 11/50\n",
            " - 24s - loss: 0.2485 - accuracy: 0.9679 - val_loss: 0.4093 - val_accuracy: 0.9609\n",
            "Epoch 12/50\n",
            " - 24s - loss: 0.2385 - accuracy: 0.9696 - val_loss: 0.1875 - val_accuracy: 0.9630\n",
            "Epoch 13/50\n",
            " - 24s - loss: 0.2382 - accuracy: 0.9700 - val_loss: 0.1626 - val_accuracy: 0.9607\n",
            "Epoch 14/50\n",
            " - 24s - loss: 0.2339 - accuracy: 0.9689 - val_loss: 0.1696 - val_accuracy: 0.9671\n",
            "Epoch 15/50\n",
            " - 23s - loss: 0.2240 - accuracy: 0.9711 - val_loss: 0.1577 - val_accuracy: 0.9662\n",
            "Epoch 16/50\n",
            " - 23s - loss: 0.2222 - accuracy: 0.9717 - val_loss: 0.2890 - val_accuracy: 0.9518\n",
            "Epoch 17/50\n",
            " - 23s - loss: 0.2139 - accuracy: 0.9729 - val_loss: 0.1358 - val_accuracy: 0.9723\n",
            "Epoch 18/50\n",
            " - 23s - loss: 0.2189 - accuracy: 0.9719 - val_loss: 0.4020 - val_accuracy: 0.9671\n",
            "Epoch 19/50\n",
            " - 24s - loss: 0.2253 - accuracy: 0.9706 - val_loss: 18.5794 - val_accuracy: 0.5153\n",
            "Epoch 20/50\n",
            " - 24s - loss: 0.2447 - accuracy: 0.9731 - val_loss: 0.7612 - val_accuracy: 0.9682\n",
            "Epoch 21/50\n",
            " - 24s - loss: 0.2032 - accuracy: 0.9744 - val_loss: 0.1723 - val_accuracy: 0.9491\n",
            "Epoch 22/50\n",
            " - 24s - loss: 0.1960 - accuracy: 0.9759 - val_loss: 0.4896 - val_accuracy: 0.9638\n",
            "Epoch 23/50\n",
            " - 23s - loss: 0.1898 - accuracy: 0.9748 - val_loss: 0.1790 - val_accuracy: 0.9652\n",
            "Epoch 24/50\n",
            " - 23s - loss: 0.1871 - accuracy: 0.9757 - val_loss: 0.1122 - val_accuracy: 0.9735\n",
            "Epoch 25/50\n",
            " - 23s - loss: 0.1851 - accuracy: 0.9752 - val_loss: 0.1280 - val_accuracy: 0.9677\n",
            "Epoch 26/50\n",
            " - 23s - loss: 0.1854 - accuracy: 0.9755 - val_loss: 0.1576 - val_accuracy: 0.9654\n",
            "Epoch 27/50\n",
            " - 24s - loss: 0.1822 - accuracy: 0.9751 - val_loss: 0.2253 - val_accuracy: 0.9514\n",
            "Epoch 28/50\n",
            " - 23s - loss: 0.1798 - accuracy: 0.9762 - val_loss: 0.1439 - val_accuracy: 0.9753\n",
            "Epoch 29/50\n",
            " - 23s - loss: 0.1771 - accuracy: 0.9760 - val_loss: 0.1775 - val_accuracy: 0.9627\n",
            "Epoch 30/50\n",
            " - 23s - loss: 0.1783 - accuracy: 0.9772 - val_loss: 0.2928 - val_accuracy: 0.9708\n",
            "Epoch 31/50\n",
            " - 23s - loss: 0.1759 - accuracy: 0.9757 - val_loss: 0.1159 - val_accuracy: 0.9687\n",
            "Epoch 32/50\n",
            " - 23s - loss: 0.1721 - accuracy: 0.9767 - val_loss: 0.1202 - val_accuracy: 0.9511\n",
            "Epoch 33/50\n",
            " - 23s - loss: 0.1745 - accuracy: 0.9771 - val_loss: 0.1440 - val_accuracy: 0.9754\n",
            "Epoch 34/50\n",
            " - 23s - loss: 0.1699 - accuracy: 0.9762 - val_loss: 0.2182 - val_accuracy: 0.9714\n",
            "Epoch 35/50\n",
            " - 24s - loss: 0.2115 - accuracy: 0.9718 - val_loss: 51.6981 - val_accuracy: 0.1926\n",
            "Epoch 36/50\n",
            " - 23s - loss: 0.2911 - accuracy: 0.9743 - val_loss: 0.2162 - val_accuracy: 0.9715\n",
            "Epoch 37/50\n",
            " - 23s - loss: 0.1927 - accuracy: 0.9781 - val_loss: 0.1199 - val_accuracy: 0.9798\n",
            "Epoch 38/50\n",
            " - 23s - loss: 0.1696 - accuracy: 0.9782 - val_loss: 0.1874 - val_accuracy: 0.9699\n",
            "Epoch 39/50\n",
            " - 23s - loss: 0.1630 - accuracy: 0.9785 - val_loss: 0.1920 - val_accuracy: 0.9716\n",
            "Epoch 40/50\n",
            " - 23s - loss: 0.1666 - accuracy: 0.9771 - val_loss: 0.1138 - val_accuracy: 0.9771\n",
            "Epoch 41/50\n",
            " - 23s - loss: 0.1629 - accuracy: 0.9777 - val_loss: 0.0963 - val_accuracy: 0.9704\n",
            "Epoch 42/50\n",
            " - 23s - loss: 0.1570 - accuracy: 0.9788 - val_loss: 0.1047 - val_accuracy: 0.9706\n",
            "Epoch 43/50\n",
            " - 23s - loss: 0.1565 - accuracy: 0.9786 - val_loss: 0.2487 - val_accuracy: 0.9720\n",
            "Epoch 44/50\n",
            " - 24s - loss: 0.1619 - accuracy: 0.9775 - val_loss: 0.1529 - val_accuracy: 0.9700\n",
            "Epoch 45/50\n",
            " - 23s - loss: 0.1508 - accuracy: 0.9791 - val_loss: 0.0805 - val_accuracy: 0.9777\n",
            "Epoch 46/50\n",
            " - 23s - loss: 0.1525 - accuracy: 0.9789 - val_loss: 0.3723 - val_accuracy: 0.9634\n",
            "Epoch 47/50\n",
            " - 23s - loss: 0.1555 - accuracy: 0.9778 - val_loss: 0.2706 - val_accuracy: 0.9739\n",
            "Epoch 48/50\n",
            " - 24s - loss: 0.1493 - accuracy: 0.9789 - val_loss: 0.0887 - val_accuracy: 0.9795\n",
            "Epoch 49/50\n",
            " - 23s - loss: 0.1496 - accuracy: 0.9787 - val_loss: 0.0875 - val_accuracy: 0.9770\n",
            "Epoch 50/50\n",
            " - 23s - loss: 0.1550 - accuracy: 0.9787 - val_loss: 0.0820 - val_accuracy: 0.9725\n"
          ],
          "name": "stdout"
        }
      ]
    },
    {
      "cell_type": "code",
      "metadata": {
        "id": "RaerLz_XsWWG",
        "colab_type": "code",
        "colab": {}
      },
      "source": [
        "\n",
        "# save model\n",
        "# method one\n",
        "model.save('VGG16_mnist.h5')\n",
        "\n",
        "# method two\n",
        "# save model by json and weights\n",
        "# save json\n",
        "from keras.models import model_from_json\n",
        "json_string = model.to_json()\n",
        "with open(r'VGG16_mnist.json', 'w') as file:\n",
        "    file.write(json_string)\n",
        "\n",
        "# save weights\n",
        "model.save_weights('VGG16_mnist.h5')\n"
      ],
      "execution_count": 0,
      "outputs": []
    },
    {
      "cell_type": "code",
      "metadata": {
        "id": "_JL3WAvKwpUO",
        "colab_type": "code",
        "colab": {}
      },
      "source": [
        "import json\n",
        "# Get the dictionary containing each metric and the loss for each epoch\n",
        "VGG16_mnist_history_dict = H.history\n",
        "# Save it under the form of a json file\n",
        "json = json.dumps(str(VGG16_mnist_history_dict))\n",
        "f = open(\"VGG16_mnist_history_dict.json\",\"w\")\n",
        "f.write(json)\n",
        "f.close()"
      ],
      "execution_count": 0,
      "outputs": []
    },
    {
      "cell_type": "code",
      "metadata": {
        "id": "CY9yuCERxC5L",
        "colab_type": "code",
        "colab": {}
      },
      "source": [
        "import json \n",
        "data = {}\n",
        "# Opening JSON file \n",
        "with open(\"VGG16_mnist_history_dict.json\") as json_file: \n",
        "    data = json.load(json_file)"
      ],
      "execution_count": 0,
      "outputs": []
    },
    {
      "cell_type": "code",
      "metadata": {
        "id": "mrMVjHiQxDhQ",
        "colab_type": "code",
        "outputId": "d35ed223-10b6-44c0-9e9a-81c447038d73",
        "colab": {
          "base_uri": "https://localhost:8080/",
          "height": 52
        }
      },
      "source": [
        "print(type(data))\n",
        "result_dict = eval(data)\n",
        "print(result_dict.keys())"
      ],
      "execution_count": 31,
      "outputs": [
        {
          "output_type": "stream",
          "text": [
            "<class 'str'>\n",
            "dict_keys(['val_loss', 'val_accuracy', 'loss', 'accuracy'])\n"
          ],
          "name": "stdout"
        }
      ]
    },
    {
      "cell_type": "code",
      "metadata": {
        "id": "IZ5a-CdSxDjw",
        "colab_type": "code",
        "outputId": "d4ea8c65-c006-4266-e7b3-5934ebf72c78",
        "colab": {
          "base_uri": "https://localhost:8080/",
          "height": 573
        }
      },
      "source": [
        "plt.plot(result_dict['accuracy'])\n",
        "plt.plot(result_dict['val_accuracy'])\n",
        "plt.title('model accuracy')\n",
        "plt.ylabel('accuracy')\n",
        "plt.xlabel('epoch')\n",
        "plt.legend(['train', 'test'], loc='upper left')\n",
        "plt.show()\n",
        "# summarize history for loss\n",
        "plt.plot(result_dict['loss'])\n",
        "plt.plot(result_dict['val_loss'])\n",
        "plt.title('model loss')\n",
        "plt.ylabel('loss')\n",
        "plt.xlabel('epoch')\n",
        "plt.legend(['train', 'test'], loc='upper left')\n",
        "plt.show()"
      ],
      "execution_count": 32,
      "outputs": [
        {
          "output_type": "display_data",
          "data": {
            "image/png": "[encoded data removed]",
            "text/plain": [
              "<Figure size 432x288 with 1 Axes>"
            ]
          },
          "metadata": {
            "tags": [],
            "needs_background": "light"
          }
        },
        {
          "output_type": "display_data",
          "data": {
            "image/png": "[encoded data removed]",
            "text/plain": [
              "<Figure size 432x288 with 1 Axes>"
            ]
          },
          "metadata": {
            "tags": [],
            "needs_background": "light"
          }
        }
      ]
    },
    {
      "cell_type": "code",
      "metadata": {
        "id": "wfmL8Cn8xn6B",
        "colab_type": "code",
        "outputId": "51815a4a-6055-4dfb-9924-b0375a426d4b",
        "colab": {
          "base_uri": "https://localhost:8080/",
          "height": 325
        }
      },
      "source": [
        "nb_epoch = EPOCHS\n",
        "\n",
        "fig1 = plt.figure(figsize = (12,10))\n",
        "ax1 = fig1.add_subplot(2,2,1)\n",
        "ax2 = fig1.add_subplot(2,2,2)\n",
        "\n",
        "ax1.plot(np.arange(1,nb_epoch+1), result_dict['val_loss'])\n",
        "ax1.set(xlabel='Epochs', ylabel='Validation Loss',\n",
        "       title='Epochs vs. Validation Loss')\n",
        "ax2.plot(np.arange(1,nb_epoch+1), result_dict['loss'])\n",
        "ax2.set(xlabel='Epochs', ylabel='Training Loss',\n",
        "       title='Epochs vs. Training Loss')\n",
        "plt.show()"
      ],
      "execution_count": 33,
      "outputs": [
        {
          "output_type": "display_data",
          "data": {
            "image/png": "[encoded data removed]",
            "text/plain": [
              "<Figure size 864x720 with 2 Axes>"
            ]
          },
          "metadata": {
            "tags": [],
            "needs_background": "light"
          }
        }
      ]
    },
    {
      "cell_type": "code",
      "metadata": {
        "id": "YbW4Y5Q3xn86",
        "colab_type": "code",
        "outputId": "88b5fdc5-8e58-422e-af29-299565f88008",
        "colab": {
          "base_uri": "https://localhost:8080/",
          "height": 325
        }
      },
      "source": [
        "\n",
        "fig1 = plt.figure(figsize = (12,10))\n",
        "ax1 = fig1.add_subplot(2,2,1)\n",
        "ax2 = fig1.add_subplot(2,2,2)\n",
        "\n",
        "ax1.plot(np.arange(1,nb_epoch+1), result_dict['val_accuracy'])\n",
        "ax1.set(xlabel='Epochs', ylabel='Validation Accuracy',\n",
        "       title='Epochs vs. Validation Accuracy')\n",
        "ax2.plot(np.arange(1,nb_epoch+1), result_dict['accuracy'])\n",
        "ax2.set(xlabel='Epochs', ylabel='Training Accuracy',\n",
        "       title='Epochs vs. Training Accuracy')\n",
        "plt.show()"
      ],
      "execution_count": 34,
      "outputs": [
        {
          "output_type": "display_data",
          "data": {
            "image/png": "[encoded data removed]",
            "text/plain": [
              "<Figure size 864x720 with 2 Axes>"
            ]
          },
          "metadata": {
            "tags": [],
            "needs_background": "light"
          }
        }
      ]
    },
    {
      "cell_type": "code",
      "metadata": {
        "id": "suv1HPxTxoBs",
        "colab_type": "code",
        "colab": {}
      },
      "source": [
        "# import tensorflow as tf"
      ],
      "execution_count": 0,
      "outputs": []
    },
    {
      "cell_type": "code",
      "metadata": {
        "id": "830FvXCExoAJ",
        "colab_type": "code",
        "colab": {}
      },
      "source": [
        "predictions = model.predict(x_test, verbose=0)"
      ],
      "execution_count": 0,
      "outputs": []
    },
    {
      "cell_type": "code",
      "metadata": {
        "id": "wiHLIRl9RZbE",
        "colab_type": "code",
        "outputId": "3aa63856-29c6-432b-8ec6-960147681526",
        "colab": {
          "base_uri": "https://localhost:8080/",
          "height": 34
        }
      },
      "source": [
        "np.argmax(y_test[0])"
      ],
      "execution_count": 36,
      "outputs": [
        {
          "output_type": "execute_result",
          "data": {
            "text/plain": [
              "7"
            ]
          },
          "metadata": {
            "tags": []
          },
          "execution_count": 36
        }
      ]
    },
    {
      "cell_type": "code",
      "metadata": {
        "id": "2gzFZCIvzbcB",
        "colab_type": "code",
        "colab": {}
      },
      "source": [
        "def test_accuracy():\n",
        "    err = []\n",
        "    t = 0\n",
        "    for i in range(predictions.shape[0]):\n",
        "        if np.argmax(predictions[i]) == np.argmax(y_test[i]):\n",
        "            t = t+1\n",
        "        else:\n",
        "            err.append(i)\n",
        "    return t, float(t)*100/predictions.shape[0], err"
      ],
      "execution_count": 0,
      "outputs": []
    },
    {
      "cell_type": "code",
      "metadata": {
        "id": "0UJRNAxTzbey",
        "colab_type": "code",
        "outputId": "91151a38-1b3a-46f2-ef21-d5fe860dad75",
        "colab": {
          "base_uri": "https://localhost:8080/",
          "height": 34
        }
      },
      "source": [
        "p = test_accuracy()\n",
        "print(\"Test accuracy: {} %\".format(p[1]))"
      ],
      "execution_count": 40,
      "outputs": [
        {
          "output_type": "stream",
          "text": [
            "Test accuracy: 97.32 %\n"
          ],
          "name": "stdout"
        }
      ]
    },
    {
      "cell_type": "code",
      "metadata": {
        "id": "g4Rslc3gzbh6",
        "colab_type": "code",
        "outputId": "92e68198-a89b-419a-eb07-3e630f0a97f2",
        "colab": {
          "base_uri": "https://localhost:8080/",
          "height": 450
        }
      },
      "source": [
        "fig1 = plt.figure(figsize = (15,15))\n",
        "\n",
        "for i in range(5):\n",
        "    ax1 = fig1.add_subplot(1,5,i+1) \n",
        "    ax1.imshow(x_test[p[2][i]].reshape(28,28), interpolation='none', cmap=plt.cm.gray)\n",
        "    ax2 = fig1.add_subplot(2,5,i+6) \n",
        "    ax2.imshow(x_test[p[2][i+6]].reshape(28,28), interpolation='none', cmap=plt.cm.gray)\n",
        "plt.show()\n",
        "\n",
        "# print(\"True:          {}\".format(y_test[p[2][0:5]]))\n",
        "print(\"True classification as: {}\".format(np.argmax(predictions[p[2][0:5]], axis=1)))\n",
        "\n",
        "# print(\"True:          {}\".format(y_test[p[2][6:11]]))\n",
        "print(\"True classification as: {}\".format(np.argmax(predictions[p[2][6:11]], axis=1)))"
      ],
      "execution_count": 41,
      "outputs": [
        {
          "output_type": "display_data",
          "data": {
            "image/png": "[encoded data removed]",
            "text/plain": [
              "<Figure size 1080x1080 with 10 Axes>"
            ]
          },
          "metadata": {
            "tags": [],
            "needs_background": "light"
          }
        },
        {
          "output_type": "stream",
          "text": [
            "True classification as: [5 2 5 6 5]\n",
            "True classification as: [2 2 4 5 2]\n"
          ],
          "name": "stdout"
        }
      ]
    },
    {
      "cell_type": "code",
      "metadata": {
        "id": "4-QDnTB-uOoy",
        "colab_type": "code",
        "colab": {}
      },
      "source": [
        ""
      ],
      "execution_count": 0,
      "outputs": []
    }
  ]
}