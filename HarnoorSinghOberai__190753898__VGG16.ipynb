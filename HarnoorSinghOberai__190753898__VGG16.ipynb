{
  "nbformat": 4,
  "nbformat_minor": 0,
  "metadata": {
    "colab": {
      "name": "HarnoorSinghOberai_ 190753898 _VGG16.ipynb",
      "provenance": [],
      "authorship_tag": "ABX9TyMmayyB9ThuNTTgD6SUxb4i",
      "include_colab_link": true
    },
    "kernelspec": {
      "name": "python3",
      "display_name": "Python 3"
    },
    "accelerator": "GPU"
  },
  "cells": [
    {
      "cell_type": "markdown",
      "metadata": {
        "id": "view-in-github",
        "colab_type": "text"
      },
      "source": [
        "<a href=\"https://colab.research.google.com/github/HarnoorOberai/Image-Classification/blob/master/HarnoorSinghOberai__190753898__VGG16.ipynb\" target=\"_parent\"><img src=\"https://colab.research.google.com/assets/colab-badge.svg\" alt=\"Open In Colab\"/></a>"
      ]
    },
    {
      "cell_type": "code",
      "metadata": {
        "id": "_W59XsfUgaH4",
        "colab_type": "code",
        "colab": {
          "base_uri": "https://localhost:8080/",
          "height": 86
        },
        "outputId": "1726096a-7129-4cf2-ef47-4a75ff1151c8"
      },
      "source": [
        "!pip install pyyaml h5py "
      ],
      "execution_count": 1,
      "outputs": [
        {
          "output_type": "stream",
          "text": [
            "Requirement already satisfied: pyyaml in /usr/local/lib/python3.6/dist-packages (3.13)\n",
            "Requirement already satisfied: h5py in /usr/local/lib/python3.6/dist-packages (2.10.0)\n",
            "Requirement already satisfied: numpy>=1.7 in /usr/local/lib/python3.6/dist-packages (from h5py) (1.18.3)\n",
            "Requirement already satisfied: six in /usr/local/lib/python3.6/dist-packages (from h5py) (1.12.0)\n"
          ],
          "name": "stdout"
        }
      ]
    },
    {
      "cell_type": "code",
      "metadata": {
        "id": "BkxVfplrSKpI",
        "colab_type": "code",
        "colab": {
          "base_uri": "https://localhost:8080/",
          "height": 69
        },
        "outputId": "d7a661c4-4fb5-41ac-89c8-33ce157f0bc9"
      },
      "source": [
        "import tensorflow as tf\n",
        "from tensorflow import keras\n",
        "from keras import models, Sequential, layers, optimizers\n",
        "from keras.layers import Dense, Activation\n",
        "import matplotlib.pyplot as plt\n",
        "\n",
        "import os\n",
        "import numpy as np\n",
        "from keras.datasets import mnist\n",
        "from keras.utils.np_utils import to_categorical\n",
        "import matplotlib.pyplot as plt\n",
        "from keras.optimizers import RMSprop\n",
        "from keras.utils import np_utils\n",
        "\n",
        "print(tf.__version__)\n",
        "print(keras.__version__)\n",
        "\n"
      ],
      "execution_count": 2,
      "outputs": [
        {
          "output_type": "stream",
          "text": [
            "2.2.0-rc3\n",
            "2.3.0-tf\n"
          ],
          "name": "stdout"
        },
        {
          "output_type": "stream",
          "text": [
            "Using TensorFlow backend.\n"
          ],
          "name": "stderr"
        }
      ]
    },
    {
      "cell_type": "code",
      "metadata": {
        "id": "D117r3YJSQCL",
        "colab_type": "code",
        "colab": {}
      },
      "source": [
        "chosen_dataset = \"mnist\"\n",
        "if chosen_dataset is \"mnist\":\n",
        "  dataset_shape = (28,28,1)\n",
        "  number_classes = 10"
      ],
      "execution_count": 0,
      "outputs": []
    },
    {
      "cell_type": "code",
      "metadata": {
        "id": "WvL2nqsCSdW-",
        "colab_type": "code",
        "colab": {
          "base_uri": "https://localhost:8080/",
          "height": 918
        },
        "outputId": "cb9ed5c0-e72c-4921-f8bc-1dc414894a1e"
      },
      "source": [
        "D_model = Sequential()\n",
        "\n",
        "D_model.add(layers.Conv2D(64,(3,3),padding='same',activation='relu',input_shape=dataset_shape))\n",
        "D_model.add(layers.Conv2D(64,(3,3),padding='same',activation='relu'))\n",
        "D_model.add(layers.MaxPool2D((2,2),strides=(2,2),padding='same'))\n",
        "\n",
        "D_model.add(layers.Conv2D(128,(3,3),padding='same',activation='relu'))\n",
        "D_model.add(layers.Conv2D(128,(3,3),padding='same',activation='relu'))\n",
        "D_model.add(layers.MaxPool2D((2,2),strides=(2,2),padding='same'))\n",
        "\n",
        "D_model.add(layers.Conv2D(256,(3,3),padding='same',activation='relu'))\n",
        "D_model.add(layers.Conv2D(256,(3,3),padding='same',activation='relu'))\n",
        "D_model.add(layers.Conv2D(256,(3,3),padding='same',activation='relu'))\n",
        "D_model.add(layers.MaxPool2D((2,2),strides=(2,2),padding='same'))\n",
        "\n",
        "D_model.add(layers.Conv2D(512,(3,3),padding='same',activation='relu'))\n",
        "D_model.add(layers.Conv2D(512,(3,3),padding='same',activation='relu'))\n",
        "D_model.add(layers.Conv2D(512,(3,3),padding='same',activation='relu'))\n",
        "D_model.add(layers.MaxPool2D((2,2),strides=(2,2),padding='same'))\n",
        "\n",
        "D_model.add(layers.Conv2D(512,(3,3),padding='same',activation='relu'))\n",
        "D_model.add(layers.Conv2D(512,(3,3),padding='same',activation='relu'))\n",
        "D_model.add(layers.Conv2D(512,(3,3),padding='same',activation='relu'))\n",
        "D_model.add(layers.MaxPool2D((2,2),strides=(2,2),padding='same'))\n",
        "\n",
        "D_model.add(layers.Flatten())\n",
        "D_model.add(layers.Dense(4096,activation='relu'))\n",
        "D_model.add(layers.Dense(4096,activation='relu'))\n",
        "\n",
        "D_model.add(layers.Dense(10,activation='softmax'))\n",
        "\n",
        "D_model.summary()"
      ],
      "execution_count": 4,
      "outputs": [
        {
          "output_type": "stream",
          "text": [
            "Model: \"sequential_1\"\n",
            "_________________________________________________________________\n",
            "Layer (type)                 Output Shape              Param #   \n",
            "=================================================================\n",
            "conv2d_1 (Conv2D)            (None, 28, 28, 64)        640       \n",
            "_________________________________________________________________\n",
            "conv2d_2 (Conv2D)            (None, 28, 28, 64)        36928     \n",
            "_________________________________________________________________\n",
            "max_pooling2d_1 (MaxPooling2 (None, 14, 14, 64)        0         \n",
            "_________________________________________________________________\n",
            "conv2d_3 (Conv2D)            (None, 14, 14, 128)       73856     \n",
            "_________________________________________________________________\n",
            "conv2d_4 (Conv2D)            (None, 14, 14, 128)       147584    \n",
            "_________________________________________________________________\n",
            "max_pooling2d_2 (MaxPooling2 (None, 7, 7, 128)         0         \n",
            "_________________________________________________________________\n",
            "conv2d_5 (Conv2D)            (None, 7, 7, 256)         295168    \n",
            "_________________________________________________________________\n",
            "conv2d_6 (Conv2D)            (None, 7, 7, 256)         590080    \n",
            "_________________________________________________________________\n",
            "conv2d_7 (Conv2D)            (None, 7, 7, 256)         590080    \n",
            "_________________________________________________________________\n",
            "max_pooling2d_3 (MaxPooling2 (None, 4, 4, 256)         0         \n",
            "_________________________________________________________________\n",
            "conv2d_8 (Conv2D)            (None, 4, 4, 512)         1180160   \n",
            "_________________________________________________________________\n",
            "conv2d_9 (Conv2D)            (None, 4, 4, 512)         2359808   \n",
            "_________________________________________________________________\n",
            "conv2d_10 (Conv2D)           (None, 4, 4, 512)         2359808   \n",
            "_________________________________________________________________\n",
            "max_pooling2d_4 (MaxPooling2 (None, 2, 2, 512)         0         \n",
            "_________________________________________________________________\n",
            "conv2d_11 (Conv2D)           (None, 2, 2, 512)         2359808   \n",
            "_________________________________________________________________\n",
            "conv2d_12 (Conv2D)           (None, 2, 2, 512)         2359808   \n",
            "_________________________________________________________________\n",
            "conv2d_13 (Conv2D)           (None, 2, 2, 512)         2359808   \n",
            "_________________________________________________________________\n",
            "max_pooling2d_5 (MaxPooling2 (None, 1, 1, 512)         0         \n",
            "_________________________________________________________________\n",
            "flatten_1 (Flatten)          (None, 512)               0         \n",
            "_________________________________________________________________\n",
            "dense_1 (Dense)              (None, 4096)              2101248   \n",
            "_________________________________________________________________\n",
            "dense_2 (Dense)              (None, 4096)              16781312  \n",
            "_________________________________________________________________\n",
            "dense_3 (Dense)              (None, 10)                40970     \n",
            "=================================================================\n",
            "Total params: 33,637,066\n",
            "Trainable params: 33,637,066\n",
            "Non-trainable params: 0\n",
            "_________________________________________________________________\n"
          ],
          "name": "stdout"
        }
      ]
    },
    {
      "cell_type": "code",
      "metadata": {
        "id": "jNN3EvXASfDo",
        "colab_type": "code",
        "colab": {
          "base_uri": "https://localhost:8080/",
          "height": 52
        },
        "outputId": "7439e4d4-c25f-48c0-8e4d-acbb7725014f"
      },
      "source": [
        "mnist = tf.keras.datasets.mnist #load mnist dataset\n",
        "\n",
        "(x_train, y_train), (x_test, y_test) = mnist.load_data() # by using this command you load the data\n",
        "x_train, x_test = x_train / 255.0, x_test / 255.0 # change every value from 0 - 255 to 0 - 1, you don't modify labels because they are from 0 -9 (digits) \n",
        "x_train = x_train.astype('float32')\n",
        "x_test = x_test.astype('float32')\n",
        "\n"
      ],
      "execution_count": 5,
      "outputs": [
        {
          "output_type": "stream",
          "text": [
            "Downloading data from https://storage.googleapis.com/tensorflow/tf-keras-datasets/mnist.npz\n",
            "11493376/11490434 [==============================] - 0s 0us/step\n"
          ],
          "name": "stdout"
        }
      ]
    },
    {
      "cell_type": "code",
      "metadata": {
        "id": "Cfpfg0t-SnVv",
        "colab_type": "code",
        "colab": {
          "base_uri": "https://localhost:8080/",
          "height": 485
        },
        "outputId": "30351ad3-f27b-4481-8180-93f548f0ca3f"
      },
      "source": [
        "print(\"Train Set Size = {} images\".format(y_train.shape[0]))\n",
        "print(\"Test Set Size = {} images\".format(y_test.shape[0]))\n",
        "\n",
        "fig1 = plt.figure(figsize = (15,15))\n",
        "\n",
        "for i in range(5):\n",
        "    ax1 = fig1.add_subplot(1,5,i+1) \n",
        "    ax1.imshow(x_train[i], interpolation='none', cmap=plt.cm.gray)\n",
        "    ax2 = fig1.add_subplot(2,5,i+6) \n",
        "    ax2.imshow(x_train[i+6], interpolation='none', cmap=plt.cm.gray)\n",
        "plt.show()\n",
        "\n",
        "print(\"Labels : {}\".format(y_train[0:5]))\n",
        "print(\"Labels : {}\".format(y_train[6:11]))\n"
      ],
      "execution_count": 6,
      "outputs": [
        {
          "output_type": "stream",
          "text": [
            "Train Set Size = 60000 images\n",
            "Test Set Size = 10000 images\n"
          ],
          "name": "stdout"
        },
        {
          "output_type": "display_data",
          "data": {
            "image/png": "[encoded data removed]",
            "text/plain": [
              "<Figure size 1080x1080 with 10 Axes>"
            ]
          },
          "metadata": {
            "tags": [],
            "needs_background": "light"
          }
        },
        {
          "output_type": "stream",
          "text": [
            "Labels : [5 0 4 1 9]\n",
            "Labels : [1 3 1 4 3]\n"
          ],
          "name": "stdout"
        }
      ]
    },
    {
      "cell_type": "code",
      "metadata": {
        "id": "BpGyguMY_EWp",
        "colab_type": "code",
        "colab": {
          "base_uri": "https://localhost:8080/",
          "height": 52
        },
        "outputId": "0b91f80f-8132-40d2-ec93-feabb60fa1b8"
      },
      "source": [
        "print(x_train.shape)\n",
        "print(x_train.shape[0])"
      ],
      "execution_count": 7,
      "outputs": [
        {
          "output_type": "stream",
          "text": [
            "(60000, 28, 28)\n",
            "60000\n"
          ],
          "name": "stdout"
        }
      ]
    },
    {
      "cell_type": "code",
      "metadata": {
        "id": "QA_qAPgdSssI",
        "colab_type": "code",
        "colab": {}
      },
      "source": [
        "# single channel\n",
        "x_train = x_train.reshape((x_train.shape[0], 28, 28, 1))\n",
        "x_test = x_test.reshape((x_test.shape[0], 28, 28, 1))\n",
        "\n",
        "\n",
        "y_train_onehot = to_categorical(y_train, num_classes=None, dtype='float32')\n",
        "y_test_onehot = to_categorical(y_test, num_classes=None, dtype='float32')"
      ],
      "execution_count": 0,
      "outputs": []
    },
    {
      "cell_type": "code",
      "metadata": {
        "id": "3K9jjX6w_WX0",
        "colab_type": "code",
        "colab": {
          "base_uri": "https://localhost:8080/",
          "height": 34
        },
        "outputId": "bad1aff0-2f72-4dab-e09d-497708a62c3d"
      },
      "source": [
        "print(y_train_onehot[0])"
      ],
      "execution_count": 9,
      "outputs": [
        {
          "output_type": "stream",
          "text": [
            "[0. 0. 0. 0. 0. 1. 0. 0. 0. 0.]\n"
          ],
          "name": "stdout"
        }
      ]
    },
    {
      "cell_type": "code",
      "metadata": {
        "id": "2clJcbaHSvIa",
        "colab_type": "code",
        "colab": {}
      },
      "source": [
        "D_model.compile(\n",
        "    loss='binary_crossentropy',\n",
        "    optimizer=RMSprop(lr=1e-4),\n",
        "    metrics=['accuracy']\n",
        ")"
      ],
      "execution_count": 0,
      "outputs": []
    },
    {
      "cell_type": "code",
      "metadata": {
        "id": "zv5T-gMTSv46",
        "colab_type": "code",
        "colab": {
          "base_uri": "https://localhost:8080/",
          "height": 1000
        },
        "outputId": "16af10af-e01c-4d14-8a58-040ab06259f8"
      },
      "source": [
        "results = D_model.fit(\n",
        "    x_train,y_train_onehot,batch_size=128,epochs=50,validation_data=(x_test,y_test_onehot),\n",
        "    verbose=1,shuffle=True)\n"
      ],
      "execution_count": 11,
      "outputs": [
        {
          "output_type": "stream",
          "text": [
            "Train on 60000 samples, validate on 10000 samples\n",
            "Epoch 1/50\n",
            "60000/60000 [==============================] - 27s 453us/step - loss: 0.1128 - accuracy: 0.9604 - val_loss: 0.0159 - val_accuracy: 0.9953\n",
            "Epoch 2/50\n",
            "60000/60000 [==============================] - 20s 332us/step - loss: 0.0166 - accuracy: 0.9949 - val_loss: 0.0143 - val_accuracy: 0.9959\n",
            "Epoch 3/50\n",
            "60000/60000 [==============================] - 20s 332us/step - loss: 0.0102 - accuracy: 0.9971 - val_loss: 0.0094 - val_accuracy: 0.9977\n",
            "Epoch 4/50\n",
            "60000/60000 [==============================] - 20s 333us/step - loss: 0.0080 - accuracy: 0.9978 - val_loss: 0.0123 - val_accuracy: 0.9966\n",
            "Epoch 5/50\n",
            "60000/60000 [==============================] - 20s 331us/step - loss: 0.0061 - accuracy: 0.9983 - val_loss: 0.0057 - val_accuracy: 0.9984\n",
            "Epoch 6/50\n",
            "60000/60000 [==============================] - 20s 332us/step - loss: 0.0051 - accuracy: 0.9987 - val_loss: 0.0070 - val_accuracy: 0.9983\n",
            "Epoch 7/50\n",
            "60000/60000 [==============================] - 20s 331us/step - loss: 0.0048 - accuracy: 0.9988 - val_loss: 0.0061 - val_accuracy: 0.9985\n",
            "Epoch 8/50\n",
            "60000/60000 [==============================] - 20s 333us/step - loss: 0.0041 - accuracy: 0.9989 - val_loss: 0.0082 - val_accuracy: 0.9983\n",
            "Epoch 9/50\n",
            "60000/60000 [==============================] - 20s 332us/step - loss: 0.0037 - accuracy: 0.9990 - val_loss: 0.0088 - val_accuracy: 0.9986\n",
            "Epoch 10/50\n",
            "60000/60000 [==============================] - 20s 331us/step - loss: 0.0038 - accuracy: 0.9992 - val_loss: 0.0068 - val_accuracy: 0.9985\n",
            "Epoch 11/50\n",
            "60000/60000 [==============================] - 20s 332us/step - loss: 0.0032 - accuracy: 0.9993 - val_loss: 0.0090 - val_accuracy: 0.9983\n",
            "Epoch 12/50\n",
            "60000/60000 [==============================] - 20s 331us/step - loss: 0.0031 - accuracy: 0.9993 - val_loss: 0.0106 - val_accuracy: 0.9984\n",
            "Epoch 13/50\n",
            "60000/60000 [==============================] - 20s 331us/step - loss: 0.0030 - accuracy: 0.9993 - val_loss: 0.0051 - val_accuracy: 0.9986\n",
            "Epoch 14/50\n",
            "60000/60000 [==============================] - 20s 335us/step - loss: 0.0026 - accuracy: 0.9994 - val_loss: 0.0070 - val_accuracy: 0.9986\n",
            "Epoch 15/50\n",
            "60000/60000 [==============================] - 20s 336us/step - loss: 0.0027 - accuracy: 0.9995 - val_loss: 0.0090 - val_accuracy: 0.9985\n",
            "Epoch 16/50\n",
            "60000/60000 [==============================] - 20s 337us/step - loss: 0.0030 - accuracy: 0.9994 - val_loss: 0.0083 - val_accuracy: 0.9982\n",
            "Epoch 17/50\n",
            "60000/60000 [==============================] - 20s 334us/step - loss: 0.0024 - accuracy: 0.9995 - val_loss: 0.0102 - val_accuracy: 0.9983\n",
            "Epoch 18/50\n",
            "60000/60000 [==============================] - 20s 331us/step - loss: 0.0028 - accuracy: 0.9995 - val_loss: 0.0093 - val_accuracy: 0.9987\n",
            "Epoch 19/50\n",
            "60000/60000 [==============================] - 20s 331us/step - loss: 0.0031 - accuracy: 0.9994 - val_loss: 0.0265 - val_accuracy: 0.9965\n",
            "Epoch 20/50\n",
            "60000/60000 [==============================] - 20s 332us/step - loss: 0.0027 - accuracy: 0.9995 - val_loss: 0.0068 - val_accuracy: 0.9987\n",
            "Epoch 21/50\n",
            "60000/60000 [==============================] - 20s 332us/step - loss: 0.0024 - accuracy: 0.9996 - val_loss: 0.0102 - val_accuracy: 0.9982\n",
            "Epoch 22/50\n",
            "60000/60000 [==============================] - 20s 331us/step - loss: 0.0026 - accuracy: 0.9996 - val_loss: 0.0084 - val_accuracy: 0.9985\n",
            "Epoch 23/50\n",
            "60000/60000 [==============================] - 20s 330us/step - loss: 0.0022 - accuracy: 0.9996 - val_loss: 0.0086 - val_accuracy: 0.9987\n",
            "Epoch 24/50\n",
            "60000/60000 [==============================] - 20s 333us/step - loss: 0.0025 - accuracy: 0.9996 - val_loss: 0.0104 - val_accuracy: 0.9985\n",
            "Epoch 25/50\n",
            "60000/60000 [==============================] - 20s 331us/step - loss: 0.0025 - accuracy: 0.9996 - val_loss: 0.0181 - val_accuracy: 0.9984\n",
            "Epoch 26/50\n",
            "60000/60000 [==============================] - 20s 331us/step - loss: 0.0035 - accuracy: 0.9995 - val_loss: 0.0105 - val_accuracy: 0.9987\n",
            "Epoch 27/50\n",
            "60000/60000 [==============================] - 20s 331us/step - loss: 0.0039 - accuracy: 0.9994 - val_loss: 0.0147 - val_accuracy: 0.9986\n",
            "Epoch 28/50\n",
            "60000/60000 [==============================] - 20s 331us/step - loss: 0.0030 - accuracy: 0.9995 - val_loss: 0.0125 - val_accuracy: 0.9981\n",
            "Epoch 29/50\n",
            "60000/60000 [==============================] - 20s 331us/step - loss: 0.0039 - accuracy: 0.9995 - val_loss: 0.0091 - val_accuracy: 0.9988\n",
            "Epoch 30/50\n",
            "60000/60000 [==============================] - 20s 330us/step - loss: 0.0031 - accuracy: 0.9995 - val_loss: 0.0157 - val_accuracy: 0.9980\n",
            "Epoch 31/50\n",
            "60000/60000 [==============================] - 20s 330us/step - loss: 0.0035 - accuracy: 0.9995 - val_loss: 0.0119 - val_accuracy: 0.9984\n",
            "Epoch 32/50\n",
            "60000/60000 [==============================] - 20s 330us/step - loss: 0.0036 - accuracy: 0.9995 - val_loss: 0.0191 - val_accuracy: 0.9981\n",
            "Epoch 33/50\n",
            "60000/60000 [==============================] - 20s 331us/step - loss: 0.0039 - accuracy: 0.9994 - val_loss: 0.0093 - val_accuracy: 0.9989\n",
            "Epoch 34/50\n",
            "60000/60000 [==============================] - 20s 330us/step - loss: 0.0030 - accuracy: 0.9996 - val_loss: 0.0140 - val_accuracy: 0.9985\n",
            "Epoch 35/50\n",
            "60000/60000 [==============================] - 20s 330us/step - loss: 0.0043 - accuracy: 0.9994 - val_loss: 0.0255 - val_accuracy: 0.9981\n",
            "Epoch 36/50\n",
            "60000/60000 [==============================] - 20s 331us/step - loss: 0.0043 - accuracy: 0.9995 - val_loss: 0.0104 - val_accuracy: 0.9989\n",
            "Epoch 37/50\n",
            "60000/60000 [==============================] - 20s 331us/step - loss: 0.0033 - accuracy: 0.9995 - val_loss: 0.0147 - val_accuracy: 0.9984\n",
            "Epoch 38/50\n",
            "60000/60000 [==============================] - 20s 330us/step - loss: 0.0038 - accuracy: 0.9996 - val_loss: 0.0160 - val_accuracy: 0.9987\n",
            "Epoch 39/50\n",
            "60000/60000 [==============================] - 20s 330us/step - loss: 0.0083 - accuracy: 0.9993 - val_loss: 0.0156 - val_accuracy: 0.9986\n",
            "Epoch 40/50\n",
            "60000/60000 [==============================] - 20s 333us/step - loss: 0.0049 - accuracy: 0.9995 - val_loss: 0.0166 - val_accuracy: 0.9987\n",
            "Epoch 41/50\n",
            "60000/60000 [==============================] - 20s 331us/step - loss: 0.0043 - accuracy: 0.9996 - val_loss: 0.0085 - val_accuracy: 0.9988\n",
            "Epoch 42/50\n",
            "60000/60000 [==============================] - 20s 331us/step - loss: 0.0035 - accuracy: 0.9996 - val_loss: 0.0188 - val_accuracy: 0.9987\n",
            "Epoch 43/50\n",
            "60000/60000 [==============================] - 20s 331us/step - loss: 0.0068 - accuracy: 0.9994 - val_loss: 0.0172 - val_accuracy: 0.9987\n",
            "Epoch 44/50\n",
            "60000/60000 [==============================] - 20s 331us/step - loss: 0.0045 - accuracy: 0.9995 - val_loss: 0.0164 - val_accuracy: 0.9987\n",
            "Epoch 45/50\n",
            "60000/60000 [==============================] - 20s 331us/step - loss: 0.0064 - accuracy: 0.9993 - val_loss: 0.0118 - val_accuracy: 0.9986\n",
            "Epoch 46/50\n",
            "60000/60000 [==============================] - 20s 330us/step - loss: 0.0026 - accuracy: 0.9997 - val_loss: 0.0148 - val_accuracy: 0.9989\n",
            "Epoch 47/50\n",
            "60000/60000 [==============================] - 20s 330us/step - loss: 0.0090 - accuracy: 0.9993 - val_loss: 0.0208 - val_accuracy: 0.9986\n",
            "Epoch 48/50\n",
            "60000/60000 [==============================] - 20s 330us/step - loss: 0.0076 - accuracy: 0.9993 - val_loss: 0.0157 - val_accuracy: 0.9988\n",
            "Epoch 49/50\n",
            "60000/60000 [==============================] - 20s 331us/step - loss: 0.0038 - accuracy: 0.9995 - val_loss: 0.0145 - val_accuracy: 0.9986\n",
            "Epoch 50/50\n",
            "60000/60000 [==============================] - 20s 330us/step - loss: 0.0033 - accuracy: 0.9996 - val_loss: 0.0148 - val_accuracy: 0.9987\n"
          ],
          "name": "stdout"
        }
      ]
    },
    {
      "cell_type": "code",
      "metadata": {
        "id": "JhQT4cpTSv7r",
        "colab_type": "code",
        "colab": {}
      },
      "source": [
        "D_model.save('VGG16_mnist.h5')"
      ],
      "execution_count": 0,
      "outputs": []
    },
    {
      "cell_type": "code",
      "metadata": {
        "id": "kikUD_ok9wIt",
        "colab_type": "code",
        "colab": {}
      },
      "source": [
        "new_model = tf.keras.models.load_model('VGG16_mnist.h5')"
      ],
      "execution_count": 0,
      "outputs": []
    },
    {
      "cell_type": "code",
      "metadata": {
        "id": "jBIYDx10KPxs",
        "colab_type": "code",
        "colab": {}
      },
      "source": [
        "predictions = new_model.predict(x_test)"
      ],
      "execution_count": 0,
      "outputs": []
    },
    {
      "cell_type": "code",
      "metadata": {
        "id": "6PMjDWxMKU5u",
        "colab_type": "code",
        "colab": {
          "base_uri": "https://localhost:8080/",
          "height": 282
        },
        "outputId": "3cbe0960-5d3b-4867-f1d4-a9c2d073cc29"
      },
      "source": [
        "print(np.argmax(predictions[0]))\n",
        "\n",
        "plt.imshow(x_test[0].reshape(28,28), cmap=plt.cm.binary)\n",
        "plt.show()\n",
        "# x_test[0].reshape(28,28)\n",
        "# plt.show()"
      ],
      "execution_count": 17,
      "outputs": [
        {
          "output_type": "stream",
          "text": [
            "7\n"
          ],
          "name": "stdout"
        },
        {
          "output_type": "display_data",
          "data": {
            "image/png": "[encoded data removed]",
            "text/plain": [
              "<Figure size 432x288 with 1 Axes>"
            ]
          },
          "metadata": {
            "tags": [],
            "needs_background": "light"
          }
        }
      ]
    },
    {
      "cell_type": "code",
      "metadata": {
        "id": "9-7HhWGPORtd",
        "colab_type": "code",
        "colab": {
          "base_uri": "https://localhost:8080/",
          "height": 86
        },
        "outputId": "bb578fa6-dc29-4d34-d7b3-a06a9678b46a"
      },
      "source": [
        "\n",
        "print(tf.__version__)\n",
        "print(keras.__version__)\n",
        "import sys\n",
        "print(sys.version)"
      ],
      "execution_count": 16,
      "outputs": [
        {
          "output_type": "stream",
          "text": [
            "2.2.0-rc3\n",
            "2.3.0-tf\n",
            "3.6.9 (default, Nov  7 2019, 10:44:02) \n",
            "[GCC 8.3.0]\n"
          ],
          "name": "stdout"
        }
      ]
    }
  ]
}